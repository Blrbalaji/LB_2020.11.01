{
 "cells": [
  {
   "cell_type": "markdown",
   "metadata": {
    "ExecuteTime": {
     "end_time": "2020-11-15T09:13:21.979357Z",
     "start_time": "2020-11-15T09:13:21.967427Z"
    }
   },
   "source": [
    "### This project is all about visualizing different forces\n",
    "    1. Unbalance Force\n",
    "    2. Oscillating Force\n",
    "    3. Tangential Force\n",
    "    4. Impulse\n",
    "    5. Random Force"
   ]
  },
  {
   "cell_type": "code",
   "execution_count": 12,
   "metadata": {
    "ExecuteTime": {
     "end_time": "2020-11-15T14:20:10.664208Z",
     "start_time": "2020-11-15T14:20:01.511357Z"
    }
   },
   "outputs": [
    {
     "name": "stdout",
     "output_type": "stream",
     "text": [
      "Enter Unbalance Magnitude in kg.m: 1e-6\n",
      "Enter Unbalance Orientation in degree: 0\n",
      "Enter Rotational Speed in rpm: 100000\n",
      "16666\n"
     ]
    },
    {
     "data": {
      "image/png": "[encoded data removed]",
      "text/plain": [
       "<Figure size 432x432 with 1 Axes>"
      ]
     },
     "metadata": {
      "needs_background": "light"
     },
     "output_type": "display_data"
    }
   ],
   "source": [
    "# 1 Rotating force due to unbalance\n",
    "import math\n",
    "import matplotlib.pyplot as plt\n",
    "\n",
    "ub = float(input(\"Enter Unbalance Magnitude in kg.m: \"))\n",
    "ph = float(input(\"Enter Unbalance Orientation in degree: \"))\n",
    "rpm = float(input(\"Enter Rotational Speed in rpm: \"))\n",
    "\n",
    "npts = int(rpm/60*20*0.5)\n",
    "delt = 0.5/npts\n",
    "omg = 2*math.pi*rpm/60\n",
    "ph = ph*math.pi/180\n",
    "\n",
    "Fub_H = []\n",
    "Fub_V = []\n",
    "\n",
    "for i in range(1,npts+1,1):\n",
    "    Fub_H.append(ub*omg**2*(math.cos(i*omg*delt + ph)))\n",
    "    Fub_V.append(ub*omg**2*(math.sin(i*omg*delt + ph)))\n",
    "\n",
    "fig = plt.figure(figsize=(6,6)) # (Figzize = (6,6)) sets the image size to a square.\n",
    "plt.title(f\"Unbalance Force | {ub} kg.m | {rpm} rpm\")\n",
    "plt.xlabel('Horizontal Component [N]')\n",
    "plt.ylabel('Vertical Component [N]')\n",
    "plt.plot(Fub_H,Fub_V, color = 'green')\n",
    "plt.grid()\n",
    "plt.savefig(\"Unbalance_Force.png\", dpi=300, quality = 99) \n",
    "# Use plt.savefig(f'Fub_{ub}_{rpm}.png') for saving with variable name.\n",
    "# dpi = 300 for good quality images\n"
   ]
  },
  {
   "cell_type": "code",
   "execution_count": null,
   "metadata": {},
   "outputs": [],
   "source": []
  }
 ],
 "metadata": {
  "kernelspec": {
   "display_name": "Python 3",
   "language": "python",
   "name": "python3"
  },
  "language_info": {
   "codemirror_mode": {
    "name": "ipython",
    "version": 3
   },
   "file_extension": ".py",
   "mimetype": "text/x-python",
   "name": "python",
   "nbconvert_exporter": "python",
   "pygments_lexer": "ipython3",
   "version": "3.8.3"
  },
  "varInspector": {
   "cols": {
    "lenName": 16,
    "lenType": 16,
    "lenVar": 40
   },
   "kernels_config": {
    "python": {
     "delete_cmd_postfix": "",
     "delete_cmd_prefix": "del ",
     "library": "var_list.py",
     "varRefreshCmd": "print(var_dic_list())"
    },
    "r": {
     "delete_cmd_postfix": ") ",
     "delete_cmd_prefix": "rm(",
     "library": "var_list.r",
     "varRefreshCmd": "cat(var_dic_list()) "
    }
   },
   "types_to_exclude": [
    "module",
    "function",
    "builtin_function_or_method",
    "instance",
    "_Feature"
   ],
   "window_display": false
  }
 },
 "nbformat": 4,
 "nbformat_minor": 4
}
