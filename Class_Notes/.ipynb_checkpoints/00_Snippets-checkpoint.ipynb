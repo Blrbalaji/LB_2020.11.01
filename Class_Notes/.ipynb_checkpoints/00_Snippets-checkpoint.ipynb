{
 "cells": [
  {
   "cell_type": "markdown",
   "metadata": {},
   "source": [
    "# Command Reference\n",
    "\n",
    "print((dir(__builtins__))) # To Get the Built in Errors\n",
    "\n",
    "# To get memory address of variable names\n",
    "a = 10\n",
    "b = 20.1 \n",
    "print(id(a))\n",
    "print(id(b))\n"
   ]
  },
  {
   "cell_type": "code",
   "execution_count": 7,
   "metadata": {
    "ExecuteTime": {
     "end_time": "2020-11-29T10:01:30.482052Z",
     "start_time": "2020-11-29T10:01:30.471047Z"
    }
   },
   "outputs": [
    {
     "name": "stdout",
     "output_type": "stream",
     "text": [
      "28 24\n",
      "# of Bytes Allocated to a & b = 28 & 24 \n"
     ]
    }
   ],
   "source": [
    "# Snippet 01 - Find Memeory Allocation in Python\n",
    "\n",
    "import sys\n",
    "\n",
    "a = 300\n",
    "b = 273.16\n",
    "c = getsizeof(a)\n",
    "d = getsizeof(b)\n",
    "print(c,d)\n",
    "print(f\"# of Bytes Allocated to a & b = {getsizeof(a)} & {getsizeof(b)} \")\n",
    "\n",
    "# Note: Irrespecitve of the float value the maximum allocated size for a float is 24 bytes\n",
    "\n",
    "\n"
   ]
  },
  {
   "cell_type": "markdown",
   "metadata": {},
   "source": [
    "### Snippet 02 - Understanding Source Code | Byte Code - You Need to Use Command Line Interface (CLI)\n",
    "    1. Write and Save the source code in *.py\n",
    "    2. Open CMD and go to the directory where *.py is stored.\n",
    "    3. > python *.py\n",
    "    4. To generate the byte code use the command:\n",
    "        > python -m py_compile *.py (-m implies import module, py_compile is the module that only compiles, f1.py is the filename)\n",
    "        A folder will be generated with __pycache__. This will house the byte code"
   ]
  },
  {
   "cell_type": "code",
   "execution_count": null,
   "metadata": {},
   "outputs": [],
   "source": [
    "# Object Re-usabbility Concept & Interning\n",
    "\n",
    "# Interning: Defined as creation of objects during runtime\n",
    "\n",
    "# Objects must be re-used if the following conditions are met\n",
    "# data type is integer from -5 to 256\n",
    "# data type is string \"0-9\" \"a-z\" \"A-Z\", _(underscore)\n",
    "\n",
    "# data type floats, complex or derived does not follow object re-usability concept\n",
    "\n",
    "# Example: You will notice that the memory address of both a & b are identical\n",
    "\n",
    "a = 10\n",
    "b = 10\n",
    "print(id(a)) \n",
    "print(id(b))\n",
    "\n",
    "# Example: You will notice that the memory address of both a & b are different as it exceeds 256\n",
    "\n",
    "a = 257\n",
    "b = 257\n",
    "print(id(a)) \n",
    "print(id(b))\n",
    "\n",
    "# Example: Memory address of both a & b are different as float does not follow object reusability \n",
    "\n",
    "a = 20.1\n",
    "b = 20.1\n",
    "print(id(a)) \n",
    "print(id(b))\n",
    "\n",
    "# Example: Memory address of both a & b are same.\n",
    "\n",
    "a = str('z')\n",
    "b = str('z')\n",
    "print(id(a)) \n",
    "print(id(b))"
   ]
  },
  {
   "cell_type": "markdown",
   "metadata": {},
   "source": [
    "# # Understanding Input & Output Functions\n",
    "    1. Function print()\n",
    "        1. Syntax: print(object(s), sep=separator, end=end, file=file, flush=flush)\n",
    "            a. sep = Optional, default ' '\n",
    "            b. end = Optional, default \\n line feed.\n",
    "            c. file = Optional. An object with a write method. Default is sys.stdout\n",
    "            d. flush = Optional. A Boolean, specifying if the output is flushed (True) or buffered (False) - Default \n",
    "\n",
    "\n"
   ]
  },
  {
   "cell_type": "code",
   "execution_count": null,
   "metadata": {
    "ExecuteTime": {
     "end_time": "2020-11-08T14:10:52.160079Z",
     "start_time": "2020-11-08T14:10:52.147066Z"
    }
   },
   "outputs": [],
   "source": [
    "# Example print()\n",
    "\n",
    "a = 10\n",
    "b = 20\n",
    "c = a+b\n",
    "\n",
    "print(a)\n",
    "print(b)\n",
    "print(c)\n",
    "\n",
    "# When the above statements are printed, it prints 10 20 and 30 in separate line due to default end being \\n.\n",
    "\n",
    "print(a,b,c) # statements are printed 10 20 30 as default is space.\n",
    "\n",
    "print(a,b,c, sep = '\\t') # Shows a tab separator\n",
    "\n",
    "print(a,b,c, sep = ' @ ')\n",
    "\n",
    "# \\n is overridden by \\t therefore, a, b and c are printed on same line separated by tab\n",
    "print(a, end = '\\t')\n",
    "print(b, end = '\\t')\n",
    "print(c, end = '\\t')\n",
    "\n",
    "print('Sum of {} and {} = {}'.format(a,b,c)) # is same as writing\n",
    "print(f'Sum of {a} and {b} = {c}')\n",
    "\n",
    "# printing to a file: This is bit tricky you need to import sys\n",
    "import sys\n",
    "out = open('test.txt', 'w') # i.e. open a text by name test in write W mode. If test is NA, it will create it.\n",
    "print(a,b,c, sep = '\\n', file = out)\n",
    "out.close()\n",
    "\n"
   ]
  },
  {
   "cell_type": "code",
   "execution_count": null,
   "metadata": {
    "ExecuteTime": {
     "end_time": "2020-11-08T14:22:52.136755Z",
     "start_time": "2020-11-08T14:22:35.076509Z"
    }
   },
   "outputs": [],
   "source": [
    "# Function Eval\n",
    "# Syntax Eval(expression, global, local)\n",
    "# Multiple use case - Solving an Equation\n",
    "\n",
    "user_exp = input('Enter an expression in terms of a: ') # Ex: a**2 + 36*a + 30\n",
    "a = float(input('Enter the value for a: ')) # Ex: 2.1\n",
    "result = eval(user_exp)\n",
    "print(result)\n",
    "\n",
    "\n",
    "\n"
   ]
  },
  {
   "cell_type": "code",
   "execution_count": null,
   "metadata": {
    "ExecuteTime": {
     "end_time": "2020-11-13T15:42:29.602011Z",
     "start_time": "2020-11-13T15:42:27.385596Z"
    }
   },
   "outputs": [],
   "source": [
    "# Demonstration of regex function\n",
    "import re\n",
    "ask = input(\"Enter temperature to be converted & Suffix of the Scale in C, F, R, K:\\n\")\n",
    "ask = str(ask)\n",
    "tempo = re.compile(\"([0-9]+)(\\s*[a-zA-Z]+)\") \n",
    "res = tempo.match(ask).groups() \n",
    "print(res)"
   ]
  },
  {
   "cell_type": "code",
   "execution_count": null,
   "metadata": {
    "ExecuteTime": {
     "end_time": "2020-11-16T15:11:51.085612Z",
     "start_time": "2020-11-16T15:11:31.347707Z"
    }
   },
   "outputs": [],
   "source": [
    "import time\n",
    "\n",
    "start_time = time.time()\n",
    "\n",
    "total = 0\n",
    "for i in range(1, 10000):\n",
    "    for j in range(1, 10000):\n",
    "        total += i + j\n",
    "\n",
    "print(f\"The result is {total}\")\n",
    "\n",
    "end_time = time.time()\n",
    "print(f\"It took {end_time-start_time:.2f} seconds to compute\")"
   ]
  },
  {
   "cell_type": "code",
   "execution_count": null,
   "metadata": {
    "ExecuteTime": {
     "end_time": "2020-11-17T04:49:15.091980Z",
     "start_time": "2020-11-17T04:49:11.085826Z"
    }
   },
   "outputs": [],
   "source": [
    "import sys\n",
    "import re\n",
    "\n",
    "ask = input(\"Enter temperature to be converted & Suffix of the Scale in C, F, R, K:\\n\")\n",
    "num = re.findall(r\"[-+]?\\d*\\.\\d+|\\d+\", ask)\n",
    "alph = re.findall(r\"[^\\W\\d_]\", ask)\n",
    "print(num,alph, sep = '\\t')\n"
   ]
  },
  {
   "cell_type": "code",
   "execution_count": null,
   "metadata": {},
   "outputs": [],
   "source": [
    "fig = plt.figure(figsize=(6,6)) # (Figzize = (6,6)) sets the image size to a square.\n",
    "plt.title(f\"Unbalance = {ub} kg.m | Rot Speed = {rpm} rpm\")\n",
    "plt.xlabel('Horizontal Component [N]')\n",
    "plt.ylabel('Vertical Component [N]')\n",
    "plt.plot(Fub_H,Fub_V, color = 'green', label = \"Unbalance Force\")\n",
    "plt.plot(Fo_H,Fo_V, color = 'blue', label = \"Oscillating Force\")\n",
    "plt.plot(Ftc_H,Ftc_V, color = 'red', label = \"Tangential + Centrifugal Force\")\n",
    "#plt.plot(Ftc_H[-2048:],Ftc_V[-2048:], color = 'red', label = \"Tangential + Centrifugal Force\")\n",
    "plt.legend(loc='best')\n",
    "#plt.legend(bbox_to_anchor=(0.5, -0.2), loc='center') # To Specify Legend Outside the Plot\n",
    "plt.grid()\n",
    "plt.savefig(\"03_Transient_Forces.png\", dpi=300, quality = 99)\n",
    "plt.show()\n",
    "# Use plt.savefig(f'Fub_{ub}_{rpm}.png') for saving with variable name.\n",
    "# dpi = 300 for good quality images"
   ]
  },
  {
   "cell_type": "code",
   "execution_count": 1,
   "metadata": {
    "ExecuteTime": {
     "end_time": "2020-11-21T07:30:04.135773Z",
     "start_time": "2020-11-21T07:30:04.124763Z"
    }
   },
   "outputs": [
    {
     "name": "stdout",
     "output_type": "stream",
     "text": [
      "['False', 'None', 'True', 'and', 'as', 'assert', 'async', 'await', 'break', 'class', 'continue', 'def', 'del', 'elif', 'else', 'except', 'finally', 'for', 'from', 'global', 'if', 'import', 'in', 'is', 'lambda', 'nonlocal', 'not', 'or', 'pass', 'raise', 'return', 'try', 'while', 'with', 'yield']\n"
     ]
    }
   ],
   "source": [
    "import keyword\n",
    "print(keyword.kwlist)"
   ]
  },
  {
   "cell_type": "code",
   "execution_count": 12,
   "metadata": {
    "ExecuteTime": {
     "end_time": "2020-11-21T08:36:52.380143Z",
     "start_time": "2020-11-21T08:36:52.366138Z"
    }
   },
   "outputs": [
    {
     "name": "stdout",
     "output_type": "stream",
     "text": [
      "(10+20j)\n"
     ]
    }
   ],
   "source": [
    "# lst = range(1,21)\n",
    "# out_lst = []\n",
    "# for i in lst:\n",
    "#     if i%2 == 0:\n",
    "#         out_lst.append(i**2)\n",
    "# print(out_lst)\n",
    "\n",
    "c = 10 + 20j\n",
    "print(10+20j)"
   ]
  },
  {
   "cell_type": "code",
   "execution_count": null,
   "metadata": {},
   "outputs": [],
   "source": [
    "# Nested Conditional Statment\n",
    "year = int(input('Enter an Year: '))\n",
    "if year % 4 == 0:\n",
    "    if year % 100 == 0:\n",
    "        if year % 400 == 0:\n",
    "            print('Year is leap year')\n",
    "        else:\n",
    "            print('Year is not a leap year')\n",
    "    else:\n",
    "        print('Year is leap year')\n",
    "else:\n",
    "    print('Year is not a leap year')"
   ]
  },
  {
   "cell_type": "code",
   "execution_count": 2,
   "metadata": {
    "ExecuteTime": {
     "end_time": "2020-11-28T06:59:27.415867Z",
     "start_time": "2020-11-28T06:59:20.532458Z"
    }
   },
   "outputs": [
    {
     "name": "stdout",
     "output_type": "stream",
     "text": [
      "Any number between 0-9:3\n",
      "Incorrect Guess\n",
      "Any number between 0-9:3\n",
      "Incorrect Guess\n",
      "Any number between 0-9:3\n",
      "Incorrect Guess\n",
      "Any number between 0-9:6\n",
      "Correct Guess\n"
     ]
    }
   ],
   "source": [
    "num = 6\n",
    "while True:\n",
    "    num = int(input(\"Any number between 0-9:\"))\n",
    "    if num == 6:\n",
    "        print(\"Correct Guess\")\n",
    "        break\n",
    "    else:\n",
    "        print(\"Incorrect Guess\")\n",
    "        "
   ]
  },
  {
   "cell_type": "code",
   "execution_count": 1,
   "metadata": {
    "ExecuteTime": {
     "end_time": "2020-11-28T09:00:43.180957Z",
     "start_time": "2020-11-28T09:00:40.990142Z"
    }
   },
   "outputs": [
    {
     "name": "stdout",
     "output_type": "stream",
     "text": [
      "Enter Number of Terms in the Sequnce: 1\n",
      "0\n"
     ]
    }
   ],
   "source": [
    "###  Fibonacci Sequence Using Function\n",
    "\n",
    "def fib_seq(num):\n",
    "    if num <= 1:\n",
    "        return(num)\n",
    "    else:\n",
    "        return(fib_seq(num-1) + fib_seq(num-2))\n",
    "\n",
    "n_terms = int(input(\"Enter Number of Terms in the Sequnce: \"))\n",
    "\n",
    "if n_terms <= 0:\n",
    "    print('Enter a Positive Number')\n",
    "else:\n",
    "    for i in range(n_terms):\n",
    "        print(fib_seq(i))\n"
   ]
  },
  {
   "cell_type": "code",
   "execution_count": 15,
   "metadata": {
    "ExecuteTime": {
     "end_time": "2020-11-28T10:13:00.431565Z",
     "start_time": "2020-11-28T10:12:55.336050Z"
    }
   },
   "outputs": [
    {
     "name": "stdout",
     "output_type": "stream",
     "text": [
      "Enter 1st Number30\n",
      "Enter 2nd Number40\n",
      "(70.0, 10.0, 1200.0, 0.75, 30.0, 0.0)\n"
     ]
    }
   ],
   "source": [
    "### Function\n",
    "def my_oper():\n",
    "    num1 = float(input(\"Enter 1st Number\"))\n",
    "    num2 = float(input(\"Enter 2nd Number\"))\n",
    "    res_add = num1 + num2\n",
    "    if num1 > num2:\n",
    "        res_sub = num1 - num2\n",
    "    else:\n",
    "        res_sub = num2 - num1\n",
    "    res_prod = num1 * num2\n",
    "    res_trudiv = num1 / num2\n",
    "    res_rema = num1 % num2\n",
    "    res_quo = num1 // num2\n",
    "    return res_add, res_sub, res_prod, res_trudiv, res_rema, res_quo\n",
    "\n",
    "print(my_oper()) # Default packing is a tuple"
   ]
  },
  {
   "cell_type": "code",
   "execution_count": 9,
   "metadata": {
    "ExecuteTime": {
     "end_time": "2020-11-28T12:52:37.076696Z",
     "start_time": "2020-11-28T12:52:37.061696Z"
    }
   },
   "outputs": [
    {
     "name": "stdout",
     "output_type": "stream",
     "text": [
      "Hello\n",
      "Hey, Bushitoe\n",
      "Hey, Dumbachu, Gushitoe\n"
     ]
    }
   ],
   "source": [
    "def greet_user():\n",
    "    ''' Displays a simple greeting '''\n",
    "    print('Hello')\n",
    "greet_user()\n",
    "\n",
    "a = 'dumbachu, gushitoe'\n",
    "def greet_user(user_name): # Notice, function takes an arugment\n",
    "    ''' Displays a simple greeting '''\n",
    "    print(f'Hey, {user_name.title()}')\n",
    "greet_user('bushitoe') # Positional Argument is a must\n",
    "greet_user(a) # Can provide a variable as well\n"
   ]
  },
  {
   "cell_type": "code",
   "execution_count": 3,
   "metadata": {
    "ExecuteTime": {
     "end_time": "2020-12-04T13:44:55.437289Z",
     "start_time": "2020-12-04T13:44:55.421332Z"
    }
   },
   "outputs": [
    {
     "name": "stdout",
     "output_type": "stream",
     "text": [
      "['False', 'None', 'True', 'and', 'as', 'assert', 'async', 'await', 'break', 'class', 'continue', 'def', 'del', 'elif', 'else', 'except', 'finally', 'for', 'from', 'global', 'if', 'import', 'in', 'is', 'lambda', 'nonlocal', 'not', 'or', 'pass', 'raise', 'return', 'try', 'while', 'with', 'yield']\n",
      "35\n"
     ]
    }
   ],
   "source": [
    "import keyword\n",
    "print(keyword.kwlist)\n",
    "print(len(keyword.kwlist))"
   ]
  },
  {
   "cell_type": "code",
   "execution_count": 5,
   "metadata": {
    "ExecuteTime": {
     "end_time": "2020-12-04T14:05:12.336045Z",
     "start_time": "2020-12-04T14:05:12.327070Z"
    }
   },
   "outputs": [
    {
     "name": "stdout",
     "output_type": "stream",
     "text": [
      "0\n",
      "1\n",
      "4\n",
      "9\n",
      "16\n"
     ]
    }
   ],
   "source": [
    "for i in range(5):\n",
    "    a = i*i\n",
    "    print(a)"
   ]
  },
  {
   "cell_type": "code",
   "execution_count": 6,
   "metadata": {
    "ExecuteTime": {
     "end_time": "2020-12-04T14:13:28.848208Z",
     "start_time": "2020-12-04T14:13:28.832524Z"
    }
   },
   "outputs": [
    {
     "name": "stdout",
     "output_type": "stream",
     "text": [
      "<class 'int'>\n",
      "<class 'float'>\n",
      "<class 'complex'>\n"
     ]
    }
   ],
   "source": [
    "a = 100\n",
    "print(type(a))\n",
    "\n",
    "a = 10.23\n",
    "print(type(a))\n",
    "\n",
    "a = 3+6j\n",
    "print(type(a))\n"
   ]
  },
  {
   "cell_type": "code",
   "execution_count": 1,
   "metadata": {
    "ExecuteTime": {
     "end_time": "2020-12-05T07:20:01.543706Z",
     "start_time": "2020-12-05T07:20:01.532735Z"
    }
   },
   "outputs": [
    {
     "name": "stdout",
     "output_type": "stream",
     "text": [
      "11 22\n",
      "33 44 11\n"
     ]
    }
   ],
   "source": [
    "a = 10 # Global\n",
    "b = 20 # Global\n",
    "\n",
    "def f1():\n",
    "    a = 11 # Extended\n",
    "    x = 22 # Extended\n",
    "    print(a, x)\n",
    "    \n",
    "    def f2():\n",
    "        b = 33 # Local\n",
    "        m = 44 # Local\n",
    "        print(b, m, a)\n",
    "    f2()\n",
    "f1()"
   ]
  },
  {
   "cell_type": "code",
   "execution_count": 6,
   "metadata": {
    "ExecuteTime": {
     "end_time": "2020-12-05T07:23:27.938283Z",
     "start_time": "2020-12-05T07:23:27.918336Z"
    }
   },
   "outputs": [
    {
     "name": "stdout",
     "output_type": "stream",
     "text": [
      "11 22\n",
      "33 44 11\n"
     ]
    }
   ],
   "source": [
    "a = 10 # Global\n",
    "b = 20 # Global\n",
    "\n",
    "def f1():\n",
    "    a = 11 # Extended\n",
    "    x = 22 # Extended\n",
    "    print(a, x)\n",
    "    \n",
    "    def f2():\n",
    "        nonlocal a\n",
    "        b = 33 # Local\n",
    "        m = 44 # Local\n",
    "        print(b, m, a)\n",
    "    f2()\n",
    "f1()"
   ]
  },
  {
   "cell_type": "code",
   "execution_count": 7,
   "metadata": {
    "ExecuteTime": {
     "end_time": "2020-12-05T07:32:24.083339Z",
     "start_time": "2020-12-05T07:32:24.065387Z"
    }
   },
   "outputs": [
    {
     "name": "stdout",
     "output_type": "stream",
     "text": [
      "11 22\n",
      "33 44 11\n",
      "10 20 22\n"
     ]
    }
   ],
   "source": [
    "a = 10 # Global\n",
    "b = 20 # Global\n",
    "x = 0\n",
    "def f1():\n",
    "    global x\n",
    "    a = 11 # Extended\n",
    "    x = 22 # Extended\n",
    "    print(a, x)\n",
    "    \n",
    "    def f2():\n",
    "        b = 33 # Local\n",
    "        m = 44 # Local\n",
    "        print(b, m, a)\n",
    "    f2()\n",
    "f1()\n",
    "print(a, b, x)"
   ]
  },
  {
   "cell_type": "code",
   "execution_count": 16,
   "metadata": {
    "ExecuteTime": {
     "end_time": "2020-12-05T07:44:45.152783Z",
     "start_time": "2020-12-05T07:44:45.145802Z"
    }
   },
   "outputs": [
    {
     "data": {
      "text/plain": [
       "16"
      ]
     },
     "execution_count": 16,
     "metadata": {},
     "output_type": "execute_result"
    }
   ],
   "source": [
    "a = lambda num : num**2\n",
    "a(4)"
   ]
  },
  {
   "cell_type": "code",
   "execution_count": 22,
   "metadata": {
    "ExecuteTime": {
     "end_time": "2020-12-05T07:51:33.225717Z",
     "start_time": "2020-12-05T07:51:33.221765Z"
    }
   },
   "outputs": [
    {
     "name": "stdout",
     "output_type": "stream",
     "text": [
      "6\n"
     ]
    }
   ],
   "source": [
    "mult = lambda x, y : x * y\n",
    "\n",
    "print(mult(2, 3))"
   ]
  },
  {
   "cell_type": "code",
   "execution_count": 36,
   "metadata": {
    "ExecuteTime": {
     "end_time": "2020-12-05T08:10:49.773946Z",
     "start_time": "2020-12-05T08:10:49.763972Z"
    }
   },
   "outputs": [
    {
     "name": "stdout",
     "output_type": "stream",
     "text": [
      "[10, 11, 12, 13, 14, 15, 16, 17, 18, 19, 20]\n"
     ]
    },
    {
     "data": {
      "text/plain": [
       "[100, 121, 144, 169, 196, 225, 256, 289, 324, 361, 400]"
      ]
     },
     "execution_count": 36,
     "metadata": {},
     "output_type": "execute_result"
    }
   ],
   "source": [
    "seq = list(range(10,21))\n",
    "print(seq)\n",
    "\n",
    "list(filter(lambda num : num%2 == 0, seq))\n",
    "\n",
    "# OR\n",
    "\n",
    "list(filter(lambda num : num%2 == 0, range(10,31)))\n",
    "\n"
   ]
  },
  {
   "cell_type": "code",
   "execution_count": 37,
   "metadata": {
    "ExecuteTime": {
     "end_time": "2020-12-05T08:11:32.940229Z",
     "start_time": "2020-12-05T08:11:32.921281Z"
    }
   },
   "outputs": [
    {
     "data": {
      "text/plain": [
       "[100, 121, 144, 169, 196, 225, 256, 289, 324, 361, 400]"
      ]
     },
     "execution_count": 37,
     "metadata": {},
     "output_type": "execute_result"
    }
   ],
   "source": [
    "seq = list(range(10,21))\n",
    "print(seq)\n",
    "\n",
    "list(map(lambda num : num**2, seq))"
   ]
  },
  {
   "cell_type": "code",
   "execution_count": 38,
   "metadata": {
    "ExecuteTime": {
     "end_time": "2020-12-05T08:12:25.756859Z",
     "start_time": "2020-12-05T08:12:25.737911Z"
    }
   },
   "outputs": [
    {
     "name": "stdout",
     "output_type": "stream",
     "text": [
      "[10, 11, 12, 13, 14, 15, 16, 17, 18, 19, 20]\n"
     ]
    },
    {
     "data": {
      "text/plain": [
       "[100, 144, 196, 256, 324, 400, 484, 576, 676, 784, 900]"
      ]
     },
     "execution_count": 38,
     "metadata": {},
     "output_type": "execute_result"
    }
   ],
   "source": [
    "seq = list(range(10,21))\n",
    "print(seq)\n",
    "\n",
    "list(map(lambda num : num**2, filter(lambda num : num%2 == 0, range(10,31))))\n"
   ]
  },
  {
   "cell_type": "code",
   "execution_count": 39,
   "metadata": {
    "ExecuteTime": {
     "end_time": "2020-12-05T08:13:42.345925Z",
     "start_time": "2020-12-05T08:13:42.329968Z"
    }
   },
   "outputs": [
    {
     "data": {
      "text/plain": [
       "[11, 22, 33]"
      ]
     },
     "execution_count": 39,
     "metadata": {},
     "output_type": "execute_result"
    }
   ],
   "source": [
    "list(map(lambda x, y : x + y, [10,20,30], [1,2,3]))"
   ]
  },
  {
   "cell_type": "code",
   "execution_count": 45,
   "metadata": {
    "ExecuteTime": {
     "end_time": "2020-12-05T08:24:01.817865Z",
     "start_time": "2020-12-05T08:24:01.810883Z"
    }
   },
   "outputs": [
    {
     "data": {
      "text/plain": [
       "['abc@gmail.com', 'mno@gmail.com']"
      ]
     },
     "execution_count": 45,
     "metadata": {},
     "output_type": "execute_result"
    }
   ],
   "source": [
    "lst = ['abc@gmail.com', 'abcd@hotmail.com', 'abcde@yahoo.com', 'mno@gmail.com', 'pqrts@outlook.com']\n",
    "\n",
    "list(filter(lambda name : len(name.split('@')[0]) == 3, lst))"
   ]
  },
  {
   "cell_type": "code",
   "execution_count": 49,
   "metadata": {
    "ExecuteTime": {
     "end_time": "2020-12-05T09:06:52.764239Z",
     "start_time": "2020-12-05T09:06:52.746287Z"
    }
   },
   "outputs": [
    {
     "name": "stdout",
     "output_type": "stream",
     "text": [
      "165\n"
     ]
    }
   ],
   "source": [
    "a = sum(list(range(10,21)))\n",
    "print(a)"
   ]
  },
  {
   "cell_type": "code",
   "execution_count": 50,
   "metadata": {
    "ExecuteTime": {
     "end_time": "2020-12-05T09:07:52.676329Z",
     "start_time": "2020-12-05T09:07:52.657339Z"
    }
   },
   "outputs": [
    {
     "data": {
      "text/plain": [
       "165"
      ]
     },
     "execution_count": 50,
     "metadata": {},
     "output_type": "execute_result"
    }
   ],
   "source": [
    "from functools import reduce\n",
    "seq = list(range(10,21))\n",
    "reduce(lambda x,y : x+y, seq)"
   ]
  },
  {
   "cell_type": "code",
   "execution_count": 51,
   "metadata": {
    "ExecuteTime": {
     "end_time": "2020-12-05T09:08:38.756431Z",
     "start_time": "2020-12-05T09:08:38.745419Z"
    }
   },
   "outputs": [
    {
     "data": {
      "text/plain": [
       "20"
      ]
     },
     "execution_count": 51,
     "metadata": {},
     "output_type": "execute_result"
    }
   ],
   "source": [
    "from functools import reduce\n",
    "seq = list(range(10,21))\n",
    "reduce(lambda x,y : x if x>y else y, seq)"
   ]
  },
  {
   "cell_type": "code",
   "execution_count": 59,
   "metadata": {
    "ExecuteTime": {
     "end_time": "2020-12-05T09:38:28.460414Z",
     "start_time": "2020-12-05T09:38:28.441462Z"
    }
   },
   "outputs": [
    {
     "name": "stdout",
     "output_type": "stream",
     "text": [
      "10\n",
      "20\n",
      "30\n",
      "40\n",
      "50\n"
     ]
    }
   ],
   "source": [
    "lst = (10,20,30,40,50)\n",
    "my_iter = iter(lst)\n",
    "print(next(my_iter))\n",
    "print(next(my_iter))\n",
    "print(next(my_iter))\n",
    "print(next(my_iter))\n",
    "print(next(my_iter))\n"
   ]
  },
  {
   "cell_type": "markdown",
   "metadata": {},
   "source": [
    "### File and Exception Handling Introduction\n",
    "    1. Text and Binary Files\n",
    "    2. Syntax:\n",
    "            f = open(r'filename.ext', 'mode') # Character r is place to prevent the character in file name to be treates as special character.\n",
    "            operations...\n",
    "            f.close()"
   ]
  },
  {
   "cell_type": "code",
   "execution_count": null,
   "metadata": {
    "ExecuteTime": {
     "end_time": "2020-12-06T08:15:32.974929Z",
     "start_time": "2020-12-06T08:15:32.958887Z"
    }
   },
   "outputs": [],
   "source": [
    "# Absolute Path to Specify the Location of the File - Declare it as a variable\n",
    "\n",
    "import os\n",
    "\n",
    "file_path = r'C:\\Users\\Balaji\\Desktop\\Gitrep\\LB_2020.11.01\\Class_Notes'\n",
    "file_name = r'CNX-50.txt'\n",
    "\n",
    "f = open(os.path.join(file_path,file_name), 'r')\n",
    "contents = f.read()\n",
    "print(contents)\n",
    "f.close()"
   ]
  },
  {
   "cell_type": "code",
   "execution_count": 55,
   "metadata": {
    "ExecuteTime": {
     "end_time": "2020-12-06T08:52:27.982487Z",
     "start_time": "2020-12-06T08:52:27.958442Z"
    }
   },
   "outputs": [
    {
     "name": "stdout",
     "output_type": "stream",
     "text": [
      "C:\\Users\\Balaji\\Desktop\\Gitrep\\LB_2020.11.01\\Class_Notes\\CNX-50.txt\n",
      "23-Mar-20\t17.15\t2.17\t2\n",
      "24-Mar-20\t17.58\t2.22\t1.95\n",
      "25-Mar-20\t18.74\t2.37\t1.83\n",
      "26-Mar-20\t19.47\t2.46\t1.76\n",
      "27-Mar-20\t19.52\t2.47\t1.76\n",
      "30-Mar-20\t18.66\t2.36\t1.84\n",
      "31-Mar-20\t19.38\t2.45\t1.77\n",
      "01-Apr-20\t18.6\t2.35\t1.84\n",
      "03-Apr-20\t18.22\t2.3\t1.88\n",
      "07-Apr-20\t19.81\t2.51\t1.73\n",
      "08-Apr-20\t19.72\t2.49\t1.74\n",
      "09-Apr-20\t20.53\t2.6\t1.67\n",
      "13-Apr-20\t20.27\t2.56\t1.69\n",
      "15-Apr-20\t20.11\t2.54\t1.7\n",
      "16-Apr-20\t20.25\t2.56\t1.69\n",
      "17-Apr-20\t20.85\t2.64\t1.64\n",
      "20-Apr-20\t20.75\t2.64\t1.64\n",
      "21-Apr-20\t20.1\t2.56\t1.69\n",
      "22-Apr-20\t20.56\t2.62\t1.66\n",
      "23-Apr-20\t20.84\t2.65\t1.63\n",
      "24-Apr-20\t20.48\t2.61\t1.66\n",
      "27-Apr-20\t20.77\t2.65\t1.64\n",
      "28-Apr-20\t21\t2.67\t1.62\n",
      "29-Apr-20\t21.65\t2.72\t1.59\n",
      "30-Apr-20\t22.35\t2.81\t1.54\n",
      "04-May-20\t21.39\t2.65\t1.64\n",
      "05-May-20\t21.19\t2.62\t1.65\n",
      "06-May-20\t21.34\t2.64\t1.64\n",
      "07-May-20\t21.18\t2.62\t1.65\n",
      "08-May-20\t21.28\t2.64\t1.64"
     ]
    }
   ],
   "source": [
    "# Read last N lines of a file\n",
    "import os\n",
    "\n",
    "file_path = r'C:\\Users\\Balaji\\Desktop\\Gitrep\\LB_2020.11.01\\Class_Notes'\n",
    "file_name = r'CNX-50.txt'\n",
    "\n",
    "def LastNlines(fname, N): \n",
    "    with open(fname) as file: \n",
    "        for line in (file.readlines() [-N:]): \n",
    "            print(line, end ='')\n",
    "\n",
    "if __name__ == '__main__': \n",
    "    fname = os.path.join(file_path,file_name)\n",
    "    print(fname)\n",
    "    N = 30\n",
    "    try: \n",
    "        LastNlines(fname, N) \n",
    "    except: \n",
    "        print('File not found')           \n"
   ]
  },
  {
   "cell_type": "code",
   "execution_count": 33,
   "metadata": {
    "ExecuteTime": {
     "end_time": "2020-12-06T09:22:25.983458Z",
     "start_time": "2020-12-06T09:22:25.951461Z"
    }
   },
   "outputs": [
    {
     "name": "stdout",
     "output_type": "stream",
     "text": [
      "C:\\Users\\Balaji\\Desktop\\Gitrep\\LB_2020.11.01\\Class_Notes\\CNX-50.txt\n",
      "01-Jan-20\t28.33\t3.76\t1.24\n",
      "\n",
      "02-Jan-20\t28.56\t3.79\t1.23\n",
      "\n",
      "03-Jan-20\t28.44\t3.77\t1.23\n",
      "\n",
      "06-Jan-20\t27.89\t3.7\t1.26\n",
      "\n",
      "07-Jan-20\t28.03\t3.72\t1.25\n",
      "\n",
      "08-Jan-20\t27.97\t3.71\t1.25\n",
      "\n",
      "09-Jan-20\t28.41\t3.77\t1.23\n",
      "\n",
      "10-Jan-20\t28.51\t3.78\t1.23\n",
      "\n",
      "13-Jan-20\t28.67\t3.8\t1.22\n",
      "\n",
      "14-Jan-20\t28.67\t3.81\t1.22\n",
      "\n",
      "15-Jan-20\t28.63\t3.81\t1.22\n",
      "\n",
      "16-Jan-20\t28.62\t3.68\t1.24\n",
      "\n",
      "17-Jan-20\t28.61\t3.67\t1.24\n",
      "\n",
      "20-Jan-20\t28\t3.63\t1.25\n",
      "\n",
      "21-Jan-20\t27.84\t3.45\t1.25\n",
      "\n",
      "22-Jan-20\t27.73\t3.42\t1.26\n",
      "\n",
      "23-Jan-20\t27.88\t3.43\t1.25\n",
      "\n",
      "24-Jan-20\t28.1\t3.45\t1.24\n",
      "\n",
      "27-Jan-20\t27.73\t3.42\t1.25\n",
      "\n",
      "28-Jan-20\t26.65\t3.4\t1.26\n",
      "\n",
      "29-Jan-20\t26.81\t3.42\t1.26\n",
      "\n",
      "30-Jan-20\t26.57\t3.39\t1.27\n",
      "\n",
      "31-Jan-20\t26.41\t3.37\t1.27\n",
      "\n",
      "01-Feb-20\t25.75\t3.28\t1.31\n",
      "\n",
      "03-Feb-20\t25.9\t3.3\t1.3\n",
      "\n",
      "04-Feb-20\t26.57\t3.37\t1.27\n",
      "\n",
      "05-Feb-20\t27.05\t3.4\t1.26\n",
      "\n",
      "06-Feb-20\t27.16\t3.42\t1.26\n",
      "\n",
      "07-Feb-20\t27.03\t3.41\t1.26\n",
      "\n",
      "10-Feb-20\t26.89\t3.39\t1.27\n",
      "\n",
      "11-Feb-20\t27.21\t3.41\t1.26\n",
      "\n",
      "12-Feb-20\t27.65\t3.44\t1.25\n",
      "\n",
      "13-Feb-20\t27.59\t3.43\t1.25\n",
      "\n",
      "14-Feb-20\t27.45\t3.41\t1.26\n",
      "\n",
      "17-Feb-20\t27.42\t3.39\t1.27\n",
      "\n",
      "18-Feb-20\t27.29\t3.38\t1.27\n",
      "\n",
      "19-Feb-20\t27.6\t3.41\t1.26\n",
      "\n",
      "20-Feb-20\t27.5\t3.4\t1.26\n",
      "\n",
      "24-Feb-20\t26.92\t3.33\t1.29\n",
      "\n",
      "25-Feb-20\t26.85\t3.32\t1.29\n",
      "\n",
      "26-Feb-20\t26.58\t3.29\t1.3\n",
      "\n",
      "27-Feb-20\t26.48\t3.27\t1.31\n",
      "\n",
      "28-Feb-20\t25.49\t3.15\t1.36\n",
      "\n",
      "02-Mar-20\t25.34\t3.13\t1.37\n",
      "\n",
      "03-Mar-20\t25.73\t3.18\t1.35\n",
      "\n",
      "04-Mar-20\t25.61\t3.17\t1.35\n",
      "\n",
      "05-Mar-20\t25.65\t3.17\t1.35\n",
      "\n",
      "06-Mar-20\t25.01\t3.09\t1.39\n",
      "\n",
      "09-Mar-20\t23.79\t2.94\t1.46\n",
      "\n",
      "11-Mar-20\t23.8\t2.94\t1.46\n",
      "\n",
      "12-Mar-20\t21.83\t2.7\t1.59\n",
      "\n",
      "13-Mar-20\t22.66\t2.8\t1.53\n",
      "\n",
      "16-Mar-20\t20.93\t2.59\t1.66\n",
      "\n",
      "17-Mar-20\t20.41\t2.52\t1.7\n",
      "\n",
      "18-Mar-20\t19.27\t2.38\t1.8\n",
      "\n",
      "19-Mar-20\t18.63\t2.36\t1.84\n",
      "\n",
      "20-Mar-20\t19.72\t2.49\t1.74\n",
      "\n",
      "23-Mar-20\t17.15\t2.17\t2\n",
      "\n",
      "24-Mar-20\t17.58\t2.22\t1.95\n",
      "\n",
      "25-Mar-20\t18.74\t2.37\t1.83\n",
      "\n",
      "26-Mar-20\t19.47\t2.46\t1.76\n",
      "\n",
      "27-Mar-20\t19.52\t2.47\t1.76\n",
      "\n",
      "30-Mar-20\t18.66\t2.36\t1.84\n",
      "\n",
      "31-Mar-20\t19.38\t2.45\t1.77\n",
      "\n",
      "01-Apr-20\t18.6\t2.35\t1.84\n",
      "\n",
      "03-Apr-20\t18.22\t2.3\t1.88\n",
      "\n",
      "07-Apr-20\t19.81\t2.51\t1.73\n",
      "\n",
      "08-Apr-20\t19.72\t2.49\t1.74\n",
      "\n",
      "09-Apr-20\t20.53\t2.6\t1.67\n",
      "\n",
      "13-Apr-20\t20.27\t2.56\t1.69\n",
      "\n",
      "15-Apr-20\t20.11\t2.54\t1.7\n",
      "\n",
      "16-Apr-20\t20.25\t2.56\t1.69\n",
      "\n",
      "17-Apr-20\t20.85\t2.64\t1.64\n",
      "\n",
      "20-Apr-20\t20.75\t2.64\t1.64\n",
      "\n",
      "21-Apr-20\t20.1\t2.56\t1.69\n",
      "\n",
      "22-Apr-20\t20.56\t2.62\t1.66\n",
      "\n",
      "23-Apr-20\t20.84\t2.65\t1.63\n",
      "\n",
      "24-Apr-20\t20.48\t2.61\t1.66\n",
      "\n",
      "27-Apr-20\t20.77\t2.65\t1.64\n",
      "\n",
      "28-Apr-20\t21\t2.67\t1.62\n",
      "\n",
      "29-Apr-20\t21.65\t2.72\t1.59\n",
      "\n",
      "30-Apr-20\t22.35\t2.81\t1.54\n",
      "\n",
      "04-May-20\t21.39\t2.65\t1.64\n",
      "\n",
      "05-May-20\t21.19\t2.62\t1.65\n",
      "\n",
      "06-May-20\t21.34\t2.64\t1.64\n",
      "\n",
      "07-May-20\t21.18\t2.62\t1.65\n",
      "\n",
      "08-May-20\t21.28\t2.64\t1.64\n"
     ]
    }
   ],
   "source": [
    "# Read a range of lines from text\n",
    "import os\n",
    "\n",
    "file_path = r'C:\\Users\\Balaji\\Desktop\\Gitrep\\LB_2020.11.01\\Class_Notes'\n",
    "file_name = r'CNX-50.txt'\n",
    "\n",
    "def nspecline(fname, Start, End): \n",
    "    with open(fname) as file:\n",
    "        if Start > End:\n",
    "            tmp = End\n",
    "            End = Start\n",
    "            Start = tmp\n",
    "        for line in (file.readlines() [Start:End]):\n",
    "            print(line)\n",
    "if __name__ == '__main__': \n",
    "    fname = os.path.join(file_path,file_name)\n",
    "    print(fname)\n",
    "    Start = 5233\n",
    "    End = 5323\n",
    "    try: \n",
    "        nspecline(fname, Start, End) \n",
    "    except: \n",
    "        print('File not found') "
   ]
  },
  {
   "cell_type": "code",
   "execution_count": null,
   "metadata": {},
   "outputs": [],
   "source": []
  }
 ],
 "metadata": {
  "kernelspec": {
   "display_name": "Python 3",
   "language": "python",
   "name": "python3"
  },
  "language_info": {
   "codemirror_mode": {
    "name": "ipython",
    "version": 3
   },
   "file_extension": ".py",
   "mimetype": "text/x-python",
   "name": "python",
   "nbconvert_exporter": "python",
   "pygments_lexer": "ipython3",
   "version": "3.8.5"
  },
  "varInspector": {
   "cols": {
    "lenName": 16,
    "lenType": 16,
    "lenVar": 40
   },
   "kernels_config": {
    "python": {
     "delete_cmd_postfix": "",
     "delete_cmd_prefix": "del ",
     "library": "var_list.py",
     "varRefreshCmd": "print(var_dic_list())"
    },
    "r": {
     "delete_cmd_postfix": ") ",
     "delete_cmd_prefix": "rm(",
     "library": "var_list.r",
     "varRefreshCmd": "cat(var_dic_list()) "
    }
   },
   "position": {
    "height": "348px",
    "left": "1471px",
    "right": "20px",
    "top": "120px",
    "width": "351px"
   },
   "types_to_exclude": [
    "module",
    "function",
    "builtin_function_or_method",
    "instance",
    "_Feature"
   ],
   "window_display": false
  }
 },
 "nbformat": 4,
 "nbformat_minor": 4
}
