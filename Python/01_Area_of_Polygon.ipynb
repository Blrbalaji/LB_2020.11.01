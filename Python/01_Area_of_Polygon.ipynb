{
 "cells": [
  {
   "cell_type": "markdown",
   "metadata": {},
   "source": [
    "## POLYGONS\n",
    "    Level 1: Compute Properties of a Polygon\n",
    "    Level 2: Plot the Polygon Defined Previously\n",
    "    Level 3: Rotate the Polygon by Specified Angle"
   ]
  },
  {
   "cell_type": "code",
   "execution_count": 1,
   "metadata": {
    "ExecuteTime": {
     "end_time": "2020-11-08T09:57:31.196522Z",
     "start_time": "2020-11-08T09:57:26.609883Z"
    }
   },
   "outputs": [
    {
     "name": "stdout",
     "output_type": "stream",
     "text": [
      "Number of Edges of a Regular Polygon:\t3\n",
      "Length of the Edge:\t100\n",
      "Area of Polygon: 4330.13 sq units\n",
      "Apothem or Incircle of a Polygon: 28.87 units\n",
      "Exterior Angle of the Polygon: 120.0 °\n"
     ]
    }
   ],
   "source": [
    "import math\n",
    "n=int(input(\"Number of Edges of a Regular Polygon:\\t\"))\n",
    "\n",
    "if n >= 3:\n",
    "    s=float(input(\"Length of the Edge:\\t\"))\n",
    "    p=n*s # Perimeter of a Polygon\n",
    "    a=s/(2*math.tan(180/n*math.pi/180)) # Apothem of a Polygon\n",
    "    area=round(p*a/2,2)\n",
    "    print(f\"Area of Polygon: {area} sq units\")\n",
    "    print(f\"Apothem or Incircle of a Polygon: {round(a,2)} units\")\n",
    "    print(f\"Exterior Angle of the Polygon: {360/n} \\u00B0\")\n",
    "    \n",
    "# elif n == 3:\n",
    "#     la=float(input(\"Length of Side A:\\n\"))\n",
    "#     lb=float(input(\"Length of Side B:\\n\"))\n",
    "#     lc=float(input(\"Length of Side C:\\n\"))\n",
    "#     p=(la+lb+lc)/2 # Note: semi perimeter must be used in the Heron's formula below\n",
    "#     area=round(math.sqrt((p)*(p-la)*(p-lb)*(p-lc)),2) # Hero of Alexandria - Heron's formula\n",
    "#     print(f\"Area of Triangle: {area} sq units\")\n",
    "\n",
    "elif n < 0:\n",
    "    print(\"Number of sides in a polygon must be a positive integer\")\n",
    "\n",
    "else:\n",
    "    print(\"A polygon must have at least 3 edges\")"
   ]
  },
  {
   "cell_type": "markdown",
   "metadata": {},
   "source": [
    "### Following Cell is to Plot a Polygon as Defined in Previous Cell\n",
    "    1. In order to close the polygon, 1st vertex is appended to the list."
   ]
  },
  {
   "cell_type": "code",
   "execution_count": 2,
   "metadata": {
    "ExecuteTime": {
     "end_time": "2020-11-08T09:57:31.212520Z",
     "start_time": "2020-11-08T09:57:31.198518Z"
    }
   },
   "outputs": [
    {
     "name": "stdout",
     "output_type": "stream",
     "text": [
      "[100.0, -50.0, -50.0, 100.0] [0.0, 86.6, -86.6, 0.0]\n"
     ]
    }
   ],
   "source": [
    "theta = (360/n)*math.pi/180\n",
    "x=[round(s*math.cos(theta),2) for theta in [i*(2*math.pi)/n for i in range(n)]]\n",
    "y=[round(s*math.sin(theta),2) for theta in [i*(2*math.pi)/n for i in range(n)]]\n",
    "x.append(x[0]) # 1st Vertex is Appended to Close the Polygon\n",
    "y.append(y[0]) # 1st Vertex is Appended to Close the Polygon\n",
    "print(x,y)\n"
   ]
  },
  {
   "cell_type": "markdown",
   "metadata": {},
   "source": [
    "### Following Cell is to Rotate a Polygon by Given Angle"
   ]
  },
  {
   "cell_type": "code",
   "execution_count": 3,
   "metadata": {
    "ExecuteTime": {
     "end_time": "2020-11-08T09:57:33.157265Z",
     "start_time": "2020-11-08T09:57:31.215472Z"
    }
   },
   "outputs": [
    {
     "name": "stdout",
     "output_type": "stream",
     "text": [
      "Specify Rotation Angle: 90\n",
      "[6.123233995736766e-15, -86.6, 86.6, 6.123233995736766e-15] [100.0, -49.99999999999999, -50.00000000000001, 100.0]\n"
     ]
    }
   ],
   "source": [
    "import math\n",
    "phi = input(\"Specify Rotation Angle: \")\n",
    "phi=float(phi)\n",
    "phi = math.radians(phi)\n",
    "rx = [(math.cos(phi) - math.sin(phi)) for j in range(n)]\n",
    "ry = [(math.sin(phi) + math.sin(phi)) for j in range(n)]\n",
    "rax = []\n",
    "ray = []\n",
    "for i in range(n):\n",
    "    rax.append(x[i]*math.cos(phi)-y[i]*math.sin(phi))\n",
    "    ray.append(x[i]*math.sin(phi)+y[i]*math.cos(phi))\n",
    "rax.append(rax[0])\n",
    "ray.append(ray[0])\n",
    "print(rax,ray)"
   ]
  },
  {
   "cell_type": "code",
   "execution_count": 4,
   "metadata": {
    "ExecuteTime": {
     "end_time": "2020-11-08T09:57:33.751661Z",
     "start_time": "2020-11-08T09:57:33.160258Z"
    }
   },
   "outputs": [
    {
     "data": {
      "image/png": "[encoded data removed]",
      "text/plain": [
       "<Figure size 432x288 with 2 Axes>"
      ]
     },
     "metadata": {
      "needs_background": "light"
     },
     "output_type": "display_data"
    }
   ],
   "source": [
    "# Module to Plot the Polygon\n",
    "\n",
    "import matplotlib.pyplot as plt\n",
    "\n",
    "fig = plt.figure()\n",
    "plt1 = fig.add_subplot(221)\n",
    "plt1.plot(x,y, color='green')\n",
    "plt.title(\"Polygon with No Rotation\")\n",
    "plt2 = fig.add_subplot(222)\n",
    "plt2.plot(rax,ray)\n",
    "plt.title(f\"Polygon with {round(phi*180/math.pi,1)} \\u00B0 Rotation\")\n",
    "fig.tight_layout(h_pad = 2) # This line puts adequate spacing between the plots\n",
    "plt.show()"
   ]
  }
 ],
 "metadata": {
  "kernelspec": {
   "display_name": "Python 3",
   "language": "python",
   "name": "python3"
  },
  "language_info": {
   "codemirror_mode": {
    "name": "ipython",
    "version": 3
   },
   "file_extension": ".py",
   "mimetype": "text/x-python",
   "name": "python",
   "nbconvert_exporter": "python",
   "pygments_lexer": "ipython3",
   "version": "3.8.3"
  },
  "varInspector": {
   "cols": {
    "lenName": 16,
    "lenType": 16,
    "lenVar": 40
   },
   "kernels_config": {
    "python": {
     "delete_cmd_postfix": "",
     "delete_cmd_prefix": "del ",
     "library": "var_list.py",
     "varRefreshCmd": "print(var_dic_list())"
    },
    "r": {
     "delete_cmd_postfix": ") ",
     "delete_cmd_prefix": "rm(",
     "library": "var_list.r",
     "varRefreshCmd": "cat(var_dic_list()) "
    }
   },
   "position": {
    "height": "558px",
    "left": "527px",
    "right": "20px",
    "top": "120px",
    "width": "350px"
   },
   "types_to_exclude": [
    "module",
    "function",
    "builtin_function_or_method",
    "instance",
    "_Feature"
   ],
   "window_display": false
  }
 },
 "nbformat": 4,
 "nbformat_minor": 4
}
