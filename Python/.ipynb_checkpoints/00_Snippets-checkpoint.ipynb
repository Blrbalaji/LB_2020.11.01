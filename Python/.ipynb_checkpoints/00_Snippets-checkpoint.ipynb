{
 "cells": [
  {
   "cell_type": "markdown",
   "metadata": {},
   "source": [
    "# Command Reference\n",
    "\n",
    "print((dir(__builtins__))) # To Get the Built in Errors\n",
    "\n",
    "# To get memory address of variable names\n",
    "a = 10\n",
    "b = 20.1 \n",
    "print(id(a))\n",
    "print(id(b))\n"
   ]
  },
  {
   "cell_type": "code",
   "execution_count": null,
   "metadata": {},
   "outputs": [],
   "source": [
    "# Snippet 01 - Find Memeory Allocation in Python\n",
    "\n",
    "import sys\n",
    "\n",
    "a = 300\n",
    "b = 273.16\n",
    "print(f\"# of Bytes Allocated to a & b = {sys.getsizeof(a)} & {sys.getsizeof(b)} \")\n",
    "\n",
    "# Note: Irrespecitve of the float value the maximum allocated size for a float is 24 bytes\n",
    "\n",
    "\n"
   ]
  },
  {
   "cell_type": "markdown",
   "metadata": {},
   "source": [
    "### Snippet 02 - Understanding Source Code | Byte Code - You Need to Use Command Line Interface (CLI)\n",
    "    1. Write and Save the source code in *.py\n",
    "    2. Open CMD and go to the directory where *.py is stored.\n",
    "    3. > python *.py\n",
    "    4. To generate the byte code use the command:\n",
    "        > python -m py_compile *.py (-m implies import module, py_compile is the module that only compiles, f1.py is the filename)\n",
    "        A folder will be generated with __pycache__. This will house the byte code"
   ]
  },
  {
   "cell_type": "code",
   "execution_count": null,
   "metadata": {},
   "outputs": [],
   "source": [
    "# Object Re-usabbility Concept & Interning\n",
    "\n",
    "# Interning: Defined as creation of objects during runtime\n",
    "\n",
    "# Objects must be re-used if the following conditions are met\n",
    "# data type is integer from -5 to 256\n",
    "# data type is string \"0-9\" \"a-z\" \"A-Z\", _(underscore)\n",
    "\n",
    "# data type floats, complex or derived does not follow object re-usability concept\n",
    "\n",
    "# Example: You will notice that the memory address of both a & b are identical\n",
    "\n",
    "a = 10\n",
    "b = 10\n",
    "print(id(a)) \n",
    "print(id(b))\n",
    "\n",
    "# Example: You will notice that the memory address of both a & b are different as it exceeds 256\n",
    "\n",
    "a = 257\n",
    "b = 257\n",
    "print(id(a)) \n",
    "print(id(b))\n",
    "\n",
    "# Example: Memory address of both a & b are different as float does not follow object reusability \n",
    "\n",
    "a = 20.1\n",
    "b = 20.1\n",
    "print(id(a)) \n",
    "print(id(b))\n",
    "\n",
    "# Example: Memory address of both a & b are same.\n",
    "\n",
    "a = str('z')\n",
    "b = str('z')\n",
    "print(id(a)) \n",
    "print(id(b))"
   ]
  },
  {
   "cell_type": "markdown",
   "metadata": {},
   "source": [
    "# # Understanding Input & Output Functions\n",
    "    1. Function print()\n",
    "        1. Syntax: print(object(s), sep=separator, end=end, file=file, flush=flush)\n",
    "            a. sep = Optional, default ' '\n",
    "            b. end = Optional, default \\n line feed.\n",
    "            c. file = Optional. An object with a write method. Default is sys.stdout\n",
    "            d. flush = Optional. A Boolean, specifying if the output is flushed (True) or buffered (False) - Default \n",
    "\n",
    "\n"
   ]
  },
  {
   "cell_type": "code",
   "execution_count": null,
   "metadata": {
    "ExecuteTime": {
     "end_time": "2020-11-08T14:10:52.160079Z",
     "start_time": "2020-11-08T14:10:52.147066Z"
    }
   },
   "outputs": [],
   "source": [
    "# Example print()\n",
    "\n",
    "a = 10\n",
    "b = 20\n",
    "c = a+b\n",
    "\n",
    "print(a)\n",
    "print(b)\n",
    "print(c)\n",
    "\n",
    "# When the above statements are printed, it prints 10 20 and 30 in separate line due to default end being \\n.\n",
    "\n",
    "print(a,b,c) # statements are printed 10 20 30 as default is space.\n",
    "\n",
    "print(a,b,c, sep = '\\t') # Shows a tab separator\n",
    "\n",
    "print(a,b,c, sep = ' @ ')\n",
    "\n",
    "# \\n is overridden by \\t therefore, a, b and c are printed on same line separated by tab\n",
    "print(a, end = '\\t')\n",
    "print(b, end = '\\t')\n",
    "print(c, end = '\\t')\n",
    "\n",
    "print('Sum of {} and {} = {}'.format(a,b,c)) # is same as writing\n",
    "print(f'Sum of {a} and {b} = {c}')\n",
    "\n",
    "# printing to a file: This is bit tricky you need to import sys\n",
    "import sys\n",
    "out = open('test.txt', 'w') # i.e. open a text by name test in write W mode. If test is NA, it will create it.\n",
    "print(a,b,c, sep = '\\n', file = out)\n",
    "out.close()\n",
    "\n"
   ]
  },
  {
   "cell_type": "code",
   "execution_count": null,
   "metadata": {
    "ExecuteTime": {
     "end_time": "2020-11-08T14:22:52.136755Z",
     "start_time": "2020-11-08T14:22:35.076509Z"
    }
   },
   "outputs": [],
   "source": [
    "# Function Eval\n",
    "# Syntax Eval(expression, global, local)\n",
    "# Multiple use case - Solving an Equation\n",
    "\n",
    "user_exp = input('Enter an expression in terms of a: ') # Ex: a**2 + 36*a + 30\n",
    "a = float(input('Enter the value for a: ')) # Ex: 2.1\n",
    "result = eval(user_exp)\n",
    "print(result)\n",
    "\n",
    "\n",
    "\n"
   ]
  },
  {
   "cell_type": "code",
   "execution_count": null,
   "metadata": {
    "ExecuteTime": {
     "end_time": "2020-11-13T15:42:29.602011Z",
     "start_time": "2020-11-13T15:42:27.385596Z"
    }
   },
   "outputs": [],
   "source": [
    "# Demonstration of regex function\n",
    "import re\n",
    "ask = input(\"Enter temperature to be converted & Suffix of the Scale in C, F, R, K:\\n\")\n",
    "ask = str(ask)\n",
    "tempo = re.compile(\"([0-9]+)(\\s*[a-zA-Z]+)\") \n",
    "res = tempo.match(ask).groups() \n",
    "print(res)"
   ]
  },
  {
   "cell_type": "code",
   "execution_count": 2,
   "metadata": {
    "ExecuteTime": {
     "end_time": "2020-11-16T15:11:51.085612Z",
     "start_time": "2020-11-16T15:11:31.347707Z"
    }
   },
   "outputs": [
    {
     "name": "stdout",
     "output_type": "stream",
     "text": [
      "The result is 999800010000\n",
      "It took 19.72 seconds to compute\n"
     ]
    }
   ],
   "source": [
    "import time\n",
    "\n",
    "start_time = time.time()\n",
    "\n",
    "total = 0\n",
    "for i in range(1, 10000):\n",
    "    for j in range(1, 10000):\n",
    "        total += i + j\n",
    "\n",
    "print(f\"The result is {total}\")\n",
    "\n",
    "end_time = time.time()\n",
    "print(f\"It took {end_time-start_time:.2f} seconds to compute\")"
   ]
  },
  {
   "cell_type": "code",
   "execution_count": 2,
   "metadata": {
    "ExecuteTime": {
     "end_time": "2020-11-17T04:48:25.345465Z",
     "start_time": "2020-11-17T04:48:22.435701Z"
    }
   },
   "outputs": [
    {
     "name": "stdout",
     "output_type": "stream",
     "text": [
      "Enter temperature to be converted & Suffix of the Scale in C, F, R, K:\n",
      "-1000c\n",
      "['1000']\t['1000', 'c']\n"
     ]
    }
   ],
   "source": [
    "import sys\n",
    "import re\n",
    "\n",
    "ask = input(\"Enter temperature to be converted & Suffix of the Scale in C, F, R, K:\\n\")\n",
    "num = re.findall(r\"[-+]?\\d*\\.\\d+|\\d+\", ask)\n",
    "alph = re.findall(r\"[^\\W\\d_]\", ask)\n",
    "print(num,alph, sep = '\\t')\n"
   ]
  },
  {
   "cell_type": "code",
   "execution_count": null,
   "metadata": {},
   "outputs": [],
   "source": []
  }
 ],
 "metadata": {
  "kernelspec": {
   "display_name": "Python 3",
   "language": "python",
   "name": "python3"
  },
  "language_info": {
   "codemirror_mode": {
    "name": "ipython",
    "version": 3
   },
   "file_extension": ".py",
   "mimetype": "text/x-python",
   "name": "python",
   "nbconvert_exporter": "python",
   "pygments_lexer": "ipython3",
   "version": "3.8.3"
  },
  "varInspector": {
   "cols": {
    "lenName": 16,
    "lenType": 16,
    "lenVar": 40
   },
   "kernels_config": {
    "python": {
     "delete_cmd_postfix": "",
     "delete_cmd_prefix": "del ",
     "library": "var_list.py",
     "varRefreshCmd": "print(var_dic_list())"
    },
    "r": {
     "delete_cmd_postfix": ") ",
     "delete_cmd_prefix": "rm(",
     "library": "var_list.r",
     "varRefreshCmd": "cat(var_dic_list()) "
    }
   },
   "position": {
    "height": "348px",
    "left": "1471px",
    "right": "20px",
    "top": "120px",
    "width": "351px"
   },
   "types_to_exclude": [
    "module",
    "function",
    "builtin_function_or_method",
    "instance",
    "_Feature"
   ],
   "window_display": false
  }
 },
 "nbformat": 4,
 "nbformat_minor": 4
}
