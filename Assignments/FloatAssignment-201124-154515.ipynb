{
 "cells": [
  {
   "cell_type": "code",
   "execution_count": 1,
   "metadata": {
    "ExecuteTime": {
     "end_time": "2020-11-25T13:56:57.619893Z",
     "start_time": "2020-11-25T13:56:57.612876Z"
    }
   },
   "outputs": [
    {
     "name": "stdout",
     "output_type": "stream",
     "text": [
      "<class 'float'>\n",
      "1689985731856\n"
     ]
    }
   ],
   "source": [
    "### FloatAssignment-201124-154515 Balaji Kannan\n",
    "num = 128.256\n",
    "print(type(num))\n",
    "print(id(num))"
   ]
  },
  {
   "cell_type": "code",
   "execution_count": 2,
   "metadata": {
    "ExecuteTime": {
     "end_time": "2020-11-25T13:57:24.892739Z",
     "start_time": "2020-11-25T13:57:24.874788Z"
    }
   },
   "outputs": [
    {
     "name": "stdout",
     "output_type": "stream",
     "text": [
      "74 \n",
      " 30 \n",
      " 1144 \n",
      " 2.3636363636363638 \n",
      " 8 \n",
      " 2 \n",
      " 56503267085670146216220839069303701504\n"
     ]
    }
   ],
   "source": [
    "num1 = 52\n",
    "num2 = 22\n",
    "\n",
    "add = num1 + num2\n",
    "sub = num1 - num2  \n",
    "mul = num1*num2\n",
    "truediv = num1/num2\n",
    "remi = num1%num2\n",
    "quo = num1//num2\n",
    "expo = num1**num2\n",
    "\n",
    "print(add,'\\n', sub,'\\n', mul,'\\n', truediv,'\\n', remi,'\\n', quo,'\\n', expo)"
   ]
  },
  {
   "cell_type": "code",
   "execution_count": 3,
   "metadata": {
    "ExecuteTime": {
     "end_time": "2020-11-25T13:58:23.623802Z",
     "start_time": "2020-11-25T13:58:23.613827Z"
    }
   },
   "outputs": [
    {
     "name": "stdout",
     "output_type": "stream",
     "text": [
      "True\n",
      "False\n",
      "True\n",
      "False\n"
     ]
    }
   ],
   "source": [
    "num1 = 75.6\n",
    "num2 = 28.3\n",
    "print(num1 > num2)\n",
    "print(num1 < num2)\n",
    "print(num1 >= num2)\n",
    "print(num1 <= num2)"
   ]
  },
  {
   "cell_type": "code",
   "execution_count": 4,
   "metadata": {
    "ExecuteTime": {
     "end_time": "2020-11-25T13:58:54.473956Z",
     "start_time": "2020-11-25T13:58:54.461985Z"
    }
   },
   "outputs": [
    {
     "name": "stdout",
     "output_type": "stream",
     "text": [
      "True\n",
      "False\n"
     ]
    }
   ],
   "source": [
    "num1 = 1024.512\n",
    "num2 = 1024.512\n",
    "print(num1 == num2)\n",
    "print(num1 != num2)"
   ]
  },
  {
   "cell_type": "code",
   "execution_count": 5,
   "metadata": {
    "ExecuteTime": {
     "end_time": "2020-11-25T14:01:32.772796Z",
     "start_time": "2020-11-25T14:01:32.758831Z"
    }
   },
   "outputs": [
    {
     "name": "stdout",
     "output_type": "stream",
     "text": [
      "20.3\n",
      "0.0\n",
      "0.0\n",
      "0.0\n",
      "10.2\n",
      "20.3\n",
      "20.3\n",
      "0.0\n",
      "False\n",
      "True\n"
     ]
    }
   ],
   "source": [
    "print(10.20 and 20.30)\n",
    "print(0.0 and 20.30)\n",
    "print(20.30 and 0.0)\n",
    "print(0.0 and 0.0)\n",
    "print (10.2 or 20.3)\n",
    "print(0.0 or 20.3)\n",
    "print(20.3 or 0)\n",
    "print(0.0 or 0.0)\n",
    "print(not 10.20)\n",
    "print(not 0.0)"
   ]
  },
  {
   "cell_type": "code",
   "execution_count": 7,
   "metadata": {
    "ExecuteTime": {
     "end_time": "2020-11-25T14:04:11.338032Z",
     "start_time": "2020-11-25T14:04:11.319091Z"
    }
   },
   "outputs": [
    {
     "name": "stdout",
     "output_type": "stream",
     "text": [
      "1689986855664\n",
      "1689982238384\n",
      "False\n",
      "True\n"
     ]
    }
   ],
   "source": [
    "a = 10.20\n",
    "b = 10.20\n",
    "print(id(a))\n",
    "print(id(b))\n",
    "print(a is b) # False\n",
    "print(a is not b) # True\n",
    "\n",
    "# ID values are different because a float value does not meet the condition of interning or object reusability.\n"
   ]
  },
  {
   "cell_type": "code",
   "execution_count": 8,
   "metadata": {
    "ExecuteTime": {
     "end_time": "2020-11-25T14:07:07.116008Z",
     "start_time": "2020-11-25T14:07:07.100347Z"
    }
   },
   "outputs": [
    {
     "name": "stdout",
     "output_type": "stream",
     "text": [
      "True\n",
      "True\n",
      "True\n",
      "True\n",
      "True\n",
      "True\n"
     ]
    }
   ],
   "source": [
    "### Membership Operation\n",
    "print('2.7' in 'Python2.7.8')\n",
    "print(10.20 in [10,10.20, 10+20j, 'Python'])\n",
    "print(10.20 in (10,10.20, 10+20j, 'Python'))\n",
    "print(20.30 in {1,20.30,30+40j})\n",
    "print(2.3 in {1:100, 2.3:200, 30+40j:300}) # Dictionary uses key\n",
    "print(10 in range(20))"
   ]
  },
  {
   "cell_type": "code",
   "execution_count": null,
   "metadata": {},
   "outputs": [],
   "source": []
  }
 ],
 "metadata": {
  "kernelspec": {
   "display_name": "Python 3",
   "language": "python",
   "name": "python3"
  },
  "language_info": {
   "codemirror_mode": {
    "name": "ipython",
    "version": 3
   },
   "file_extension": ".py",
   "mimetype": "text/x-python",
   "name": "python",
   "nbconvert_exporter": "python",
   "pygments_lexer": "ipython3",
   "version": "3.8.5"
  },
  "varInspector": {
   "cols": {
    "lenName": 16,
    "lenType": 16,
    "lenVar": 40
   },
   "kernels_config": {
    "python": {
     "delete_cmd_postfix": "",
     "delete_cmd_prefix": "del ",
     "library": "var_list.py",
     "varRefreshCmd": "print(var_dic_list())"
    },
    "r": {
     "delete_cmd_postfix": ") ",
     "delete_cmd_prefix": "rm(",
     "library": "var_list.r",
     "varRefreshCmd": "cat(var_dic_list()) "
    }
   },
   "types_to_exclude": [
    "module",
    "function",
    "builtin_function_or_method",
    "instance",
    "_Feature"
   ],
   "window_display": false
  }
 },
 "nbformat": 4,
 "nbformat_minor": 4
}
