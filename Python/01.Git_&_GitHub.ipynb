{
 "cells": [
  {
   "cell_type": "markdown",
   "metadata": {},
   "source": [
    "## Git & GitHub\n",
    "    Git: Is a version control system\n",
    "    Github: Is a cloud repository in which Git is implemented.\n",
    "    GUI / CLI: We will be using Commandline Interface.\n",
    "    Git: Is a distributed version control system.\n",
    "    Git: Most operations done in local system, need not be connected to central server often."
   ]
  },
  {
   "cell_type": "markdown",
   "metadata": {},
   "source": [
    "Configuring GitHub - One time activity\n",
    "\n",
    "Open Git Bash - Enter the user name, user email  & autocrlf commands as shown below\n",
    "\n",
    "balaj@BLR-Balaji MINGW64 ~\n",
    "$ git config --global user.name 'Blrbalaji'\n",
    "\n",
    "balaj@BLR-Balaji MINGW64 ~\n",
    "$ git config --global user.email 'Anbha684@gmail.com'\n",
    "\n",
    "balaj@BLR-Balaji MINGW64 ~\n",
    "$ git config --global core.autocrlf true # This is end of line command \n",
    "\n",
    "balaj@BLR-Balaji MINGW64 ~\n",
    "$ git config --global --list\n",
    "user.name=Blrbalaji\n",
    "user.email=Anbha684@gmail.com\n",
    "core.autocrlf=true\n",
    "\n",
    "balaj@BLR-Balaji MINGW64 ~\n",
    "$"
   ]
  },
  {
   "cell_type": "code",
   "execution_count": null,
   "metadata": {},
   "outputs": [],
   "source": []
  },
  {
   "cell_type": "code",
   "execution_count": null,
   "metadata": {},
   "outputs": [],
   "source": []
  },
  {
   "cell_type": "code",
   "execution_count": null,
   "metadata": {},
   "outputs": [],
   "source": []
  },
  {
   "cell_type": "code",
   "execution_count": null,
   "metadata": {},
   "outputs": [],
   "source": []
  }
 ],
 "metadata": {
  "kernelspec": {
   "display_name": "Python 3",
   "language": "python",
   "name": "python3"
  },
  "language_info": {
   "codemirror_mode": {
    "name": "ipython",
    "version": 3
   },
   "file_extension": ".py",
   "mimetype": "text/x-python",
   "name": "python",
   "nbconvert_exporter": "python",
   "pygments_lexer": "ipython3",
   "version": "3.8.3"
  }
 },
 "nbformat": 4,
 "nbformat_minor": 4
}
