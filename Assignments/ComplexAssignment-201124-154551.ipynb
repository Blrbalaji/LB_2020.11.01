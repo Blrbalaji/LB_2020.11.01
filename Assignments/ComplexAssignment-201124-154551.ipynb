{
 "cells": [
  {
   "cell_type": "code",
   "execution_count": 1,
   "metadata": {
    "ExecuteTime": {
     "end_time": "2020-11-25T14:09:18.384006Z",
     "start_time": "2020-11-25T14:09:18.365054Z"
    }
   },
   "outputs": [
    {
     "name": "stdout",
     "output_type": "stream",
     "text": [
      "<class 'complex'>\n",
      "2077913702448\n"
     ]
    }
   ],
   "source": [
    "### ComplexAssignment-201124-154551 - Balaji Kannan\n",
    "num = -10+20j\n",
    "print(type(num))\n",
    "print(id(num))"
   ]
  },
  {
   "cell_type": "code",
   "execution_count": 4,
   "metadata": {
    "ExecuteTime": {
     "end_time": "2020-11-25T14:10:47.541352Z",
     "start_time": "2020-11-25T14:10:47.529102Z"
    }
   },
   "outputs": [
    {
     "name": "stdout",
     "output_type": "stream",
     "text": [
      "(5+33j) \n",
      " (15+7j) \n",
      " (-310+30j) \n",
      " (1.0824742268041236-1.1855670103092784j) \n",
      " (-9.588090623321525e-14-2.9837062431296385e-14j)\n"
     ]
    }
   ],
   "source": [
    "num1 = 10 + 20j\n",
    "num2 = -5 + 13j\n",
    "\n",
    "add = num1 + num2\n",
    "sub = num1 - num2  \n",
    "mul = num1*num2\n",
    "truediv = num1/num2\n",
    "expo = num1**num2\n",
    "\n",
    "print(add,'\\n', sub,'\\n', mul,'\\n', truediv,'\\n', expo)"
   ]
  },
  {
   "cell_type": "code",
   "execution_count": 5,
   "metadata": {
    "ExecuteTime": {
     "end_time": "2020-11-25T14:11:41.708640Z",
     "start_time": "2020-11-25T14:11:41.701615Z"
    }
   },
   "outputs": [
    {
     "name": "stdout",
     "output_type": "stream",
     "text": [
      "False\n",
      "True\n"
     ]
    }
   ],
   "source": [
    "num1 = 10 + 20j\n",
    "num2 = -5 + 13j\n",
    "\n",
    "print(num1 == num2)\n",
    "print(num1 != num2)"
   ]
  },
  {
   "cell_type": "code",
   "execution_count": 8,
   "metadata": {
    "ExecuteTime": {
     "end_time": "2020-11-25T14:15:53.863986Z",
     "start_time": "2020-11-25T14:15:53.848030Z"
    }
   },
   "outputs": [
    {
     "name": "stdout",
     "output_type": "stream",
     "text": [
      "(20+30j)\n",
      "0j\n",
      "0j\n",
      "0j\n",
      "(10+20j)\n",
      "(20+30j)\n",
      "(20+30j)\n",
      "0j\n",
      "False\n",
      "True\n"
     ]
    }
   ],
   "source": [
    "print(10 + 20j and 20 + 30j)\n",
    "print(0 + 0j and 20 + 30j)\n",
    "print(20 + 30j and 0 + 0j)\n",
    "print(0 + 0j and 0 + 0j)\n",
    "\n",
    "print(10 + 20j or 20 + 30j)\n",
    "print(0 + 0j or 20 + 30j)\n",
    "print(20 + 30j or 0 + 0j)\n",
    "print(0 + 0j or 0 + 0j)\n",
    "\n",
    "print(not 10+20j)\n",
    "print(not 0+0j)"
   ]
  },
  {
   "cell_type": "code",
   "execution_count": 9,
   "metadata": {
    "ExecuteTime": {
     "end_time": "2020-11-25T14:16:59.342040Z",
     "start_time": "2020-11-25T14:16:59.329071Z"
    }
   },
   "outputs": [
    {
     "name": "stdout",
     "output_type": "stream",
     "text": [
      "False\n",
      "True\n"
     ]
    }
   ],
   "source": [
    "a = 10 + 20j\n",
    "b = 10 + 20j\n",
    "print(a is b) # False\n",
    "print(a is not b) # True"
   ]
  },
  {
   "cell_type": "code",
   "execution_count": 10,
   "metadata": {
    "ExecuteTime": {
     "end_time": "2020-11-25T14:18:07.395951Z",
     "start_time": "2020-11-25T14:18:07.378997Z"
    }
   },
   "outputs": [
    {
     "name": "stdout",
     "output_type": "stream",
     "text": [
      "True\n",
      "True\n",
      "True\n",
      "True\n",
      "True\n",
      "True\n"
     ]
    }
   ],
   "source": [
    "### Membership Operation\n",
    "print('2.7' in 'Python2.7.8')\n",
    "print(10 + 20j in [10,10.20, 10+20j, 'Python'])\n",
    "print(10 + 20j in (10,10.20, 10+20j, 'Python'))\n",
    "print(30 + 40j in {1,20.30,30+40j})\n",
    "print(30 + 40j in {1:100, 2.3:200, 30+40j:300}) # Dictionary uses key\n",
    "print(10 in range(20))"
   ]
  },
  {
   "cell_type": "code",
   "execution_count": null,
   "metadata": {},
   "outputs": [],
   "source": []
  }
 ],
 "metadata": {
  "kernelspec": {
   "display_name": "Python 3",
   "language": "python",
   "name": "python3"
  },
  "language_info": {
   "codemirror_mode": {
    "name": "ipython",
    "version": 3
   },
   "file_extension": ".py",
   "mimetype": "text/x-python",
   "name": "python",
   "nbconvert_exporter": "python",
   "pygments_lexer": "ipython3",
   "version": "3.8.5"
  },
  "varInspector": {
   "cols": {
    "lenName": 16,
    "lenType": 16,
    "lenVar": 40
   },
   "kernels_config": {
    "python": {
     "delete_cmd_postfix": "",
     "delete_cmd_prefix": "del ",
     "library": "var_list.py",
     "varRefreshCmd": "print(var_dic_list())"
    },
    "r": {
     "delete_cmd_postfix": ") ",
     "delete_cmd_prefix": "rm(",
     "library": "var_list.r",
     "varRefreshCmd": "cat(var_dic_list()) "
    }
   },
   "types_to_exclude": [
    "module",
    "function",
    "builtin_function_or_method",
    "instance",
    "_Feature"
   ],
   "window_display": false
  }
 },
 "nbformat": 4,
 "nbformat_minor": 4
}
