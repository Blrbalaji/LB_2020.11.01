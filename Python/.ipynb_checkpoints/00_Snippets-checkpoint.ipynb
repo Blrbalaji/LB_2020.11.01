{
 "cells": [
  {
   "cell_type": "markdown",
   "metadata": {},
   "source": [
    "# Command Reference\n",
    "\n",
    "print((dir(__builtins__))) # To Get the Built in Errors\n",
    "\n",
    "# To get memory address of variable names\n",
    "a = 10\n",
    "b = 20.1 \n",
    "print(id(a))\n",
    "print(id(b))\n"
   ]
  },
  {
   "cell_type": "code",
   "execution_count": null,
   "metadata": {},
   "outputs": [],
   "source": [
    "# Snippet 01 - Find Memeory Allocation in Python\n",
    "\n",
    "import sys\n",
    "\n",
    "a = 300\n",
    "b = 273.16\n",
    "print(f\"# of Bytes Allocated to a & b = {sys.getsizeof(a)} & {sys.getsizeof(b)} \")\n",
    "\n",
    "# Note: Irrespecitve of the float value the maximum allocated size for a float is 24 bytes\n",
    "\n",
    "\n"
   ]
  },
  {
   "cell_type": "markdown",
   "metadata": {},
   "source": [
    "### Snippet 02 - Understanding Source Code | Byte Code - You Need to Use Command Line Interface (CLI)\n",
    "    1. Write and Save the source code in *.py\n",
    "    2. Open CMD and go to the directory where *.py is stored.\n",
    "    3. > python *.py\n",
    "    4. To generate the byte code use the command:\n",
    "        > python -m py_compile *.py (-m implies import module, py_compile is the module that only compiles, f1.py is the filename)\n",
    "        A folder will be generated with __pycache__. This will house the byte code"
   ]
  },
  {
   "cell_type": "code",
   "execution_count": null,
   "metadata": {},
   "outputs": [],
   "source": [
    "# Object Re-usabbility Concept & Interning\n",
    "\n",
    "# Interning: Defined as creation of objects during runtime\n",
    "\n",
    "# Objects must be re-used if the following conditions are met\n",
    "# data type is integer from -5 to 256\n",
    "# data type is string \"0-9\" \"a-z\" \"A-Z\", _(underscore)\n",
    "\n",
    "# data type floats, complex or derived does not follow object re-usability concept\n",
    "\n",
    "# Example: You will notice that the memory address of both a & b are identical\n",
    "\n",
    "a = 10\n",
    "b = 10\n",
    "print(id(a)) \n",
    "print(id(b))\n",
    "\n",
    "# Example: You will notice that the memory address of both a & b are different as it exceeds 256\n",
    "\n",
    "a = 257\n",
    "b = 257\n",
    "print(id(a)) \n",
    "print(id(b))\n",
    "\n",
    "# Example: Memory address of both a & b are different as float does not follow object reusability \n",
    "\n",
    "a = 20.1\n",
    "b = 20.1\n",
    "print(id(a)) \n",
    "print(id(b))\n",
    "\n",
    "# Example: Memory address of both a & b are same.\n",
    "\n",
    "a = str('z')\n",
    "b = str('z')\n",
    "print(id(a)) \n",
    "print(id(b))"
   ]
  },
  {
   "cell_type": "markdown",
   "metadata": {},
   "source": [
    "# # Understanding Input & Output Functions\n",
    "    1. Function print()\n",
    "        1. Syntax: print(object(s), sep=separator, end=end, file=file, flush=flush)\n",
    "            a. sep = Optional, default ' '\n",
    "            b. end = Optional, default \\n line feed.\n",
    "            c. file = Optional. An object with a write method. Default is sys.stdout\n",
    "            d. flush = Optional. A Boolean, specifying if the output is flushed (True) or buffered (False) - Default \n",
    "\n",
    "\n"
   ]
  },
  {
   "cell_type": "code",
   "execution_count": null,
   "metadata": {
    "ExecuteTime": {
     "end_time": "2020-11-08T14:10:52.160079Z",
     "start_time": "2020-11-08T14:10:52.147066Z"
    }
   },
   "outputs": [],
   "source": [
    "# Example print()\n",
    "\n",
    "a = 10\n",
    "b = 20\n",
    "c = a+b\n",
    "\n",
    "print(a)\n",
    "print(b)\n",
    "print(c)\n",
    "\n",
    "# When the above statements are printed, it prints 10 20 and 30 in separate line due to default end being \\n.\n",
    "\n",
    "print(a,b,c) # statements are printed 10 20 30 as default is space.\n",
    "\n",
    "print(a,b,c, sep = '\\t') # Shows a tab separator\n",
    "\n",
    "print(a,b,c, sep = ' @ ')\n",
    "\n",
    "# \\n is overridden by \\t therefore, a, b and c are printed on same line separated by tab\n",
    "print(a, end = '\\t')\n",
    "print(b, end = '\\t')\n",
    "print(c, end = '\\t')\n",
    "\n",
    "print('Sum of {} and {} = {}'.format(a,b,c)) # is same as writing\n",
    "print(f'Sum of {a} and {b} = {c}')\n",
    "\n",
    "# printing to a file: This is bit tricky you need to import sys\n",
    "import sys\n",
    "out = open('test.txt', 'w') # i.e. open a text by name test in write W mode. If test is NA, it will create it.\n",
    "print(a,b,c, sep = '\\n', file = out)\n",
    "out.close()\n",
    "\n"
   ]
  },
  {
   "cell_type": "code",
   "execution_count": null,
   "metadata": {
    "ExecuteTime": {
     "end_time": "2020-11-08T14:22:52.136755Z",
     "start_time": "2020-11-08T14:22:35.076509Z"
    }
   },
   "outputs": [],
   "source": [
    "# Function Eval\n",
    "# Syntax Eval(expression, global, local)\n",
    "# Multiple use case - Solving an Equation\n",
    "\n",
    "user_exp = input('Enter an expression in terms of a: ') # Ex: a**2 + 36*a + 30\n",
    "a = float(input('Enter the value for a: ')) # Ex: 2.1\n",
    "result = eval(user_exp)\n",
    "print(result)\n",
    "\n",
    "\n",
    "\n"
   ]
  },
  {
   "cell_type": "code",
   "execution_count": null,
   "metadata": {
    "ExecuteTime": {
     "end_time": "2020-11-13T15:42:29.602011Z",
     "start_time": "2020-11-13T15:42:27.385596Z"
    }
   },
   "outputs": [],
   "source": [
    "# Demonstration of regex function\n",
    "import re\n",
    "ask = input(\"Enter temperature to be converted & Suffix of the Scale in C, F, R, K:\\n\")\n",
    "ask = str(ask)\n",
    "tempo = re.compile(\"([0-9]+)(\\s*[a-zA-Z]+)\") \n",
    "res = tempo.match(ask).groups() \n",
    "print(res)"
   ]
  },
  {
   "cell_type": "code",
   "execution_count": null,
   "metadata": {
    "ExecuteTime": {
     "end_time": "2020-11-16T15:11:51.085612Z",
     "start_time": "2020-11-16T15:11:31.347707Z"
    }
   },
   "outputs": [],
   "source": [
    "import time\n",
    "\n",
    "start_time = time.time()\n",
    "\n",
    "total = 0\n",
    "for i in range(1, 10000):\n",
    "    for j in range(1, 10000):\n",
    "        total += i + j\n",
    "\n",
    "print(f\"The result is {total}\")\n",
    "\n",
    "end_time = time.time()\n",
    "print(f\"It took {end_time-start_time:.2f} seconds to compute\")"
   ]
  },
  {
   "cell_type": "code",
   "execution_count": null,
   "metadata": {
    "ExecuteTime": {
     "end_time": "2020-11-17T04:49:15.091980Z",
     "start_time": "2020-11-17T04:49:11.085826Z"
    }
   },
   "outputs": [],
   "source": [
    "import sys\n",
    "import re\n",
    "\n",
    "ask = input(\"Enter temperature to be converted & Suffix of the Scale in C, F, R, K:\\n\")\n",
    "num = re.findall(r\"[-+]?\\d*\\.\\d+|\\d+\", ask)\n",
    "alph = re.findall(r\"[^\\W\\d_]\", ask)\n",
    "print(num,alph, sep = '\\t')\n"
   ]
  },
  {
   "cell_type": "code",
   "execution_count": null,
   "metadata": {},
   "outputs": [],
   "source": [
    "fig = plt.figure(figsize=(6,6)) # (Figzize = (6,6)) sets the image size to a square.\n",
    "plt.title(f\"Unbalance = {ub} kg.m | Rot Speed = {rpm} rpm\")\n",
    "plt.xlabel('Horizontal Component [N]')\n",
    "plt.ylabel('Vertical Component [N]')\n",
    "plt.plot(Fub_H,Fub_V, color = 'green', label = \"Unbalance Force\")\n",
    "plt.plot(Fo_H,Fo_V, color = 'blue', label = \"Oscillating Force\")\n",
    "plt.plot(Ftc_H,Ftc_V, color = 'red', label = \"Tangential + Centrifugal Force\")\n",
    "#plt.plot(Ftc_H[-2048:],Ftc_V[-2048:], color = 'red', label = \"Tangential + Centrifugal Force\")\n",
    "plt.legend(loc='best')\n",
    "#plt.legend(bbox_to_anchor=(0.5, -0.2), loc='center') # To Specify Legend Outside the Plot\n",
    "plt.grid()\n",
    "plt.savefig(\"03_Transient_Forces.png\", dpi=300, quality = 99)\n",
    "plt.show()\n",
    "# Use plt.savefig(f'Fub_{ub}_{rpm}.png') for saving with variable name.\n",
    "# dpi = 300 for good quality images"
   ]
  },
  {
   "cell_type": "code",
   "execution_count": 1,
   "metadata": {
    "ExecuteTime": {
     "end_time": "2020-11-21T07:30:04.135773Z",
     "start_time": "2020-11-21T07:30:04.124763Z"
    }
   },
   "outputs": [
    {
     "name": "stdout",
     "output_type": "stream",
     "text": [
      "['False', 'None', 'True', 'and', 'as', 'assert', 'async', 'await', 'break', 'class', 'continue', 'def', 'del', 'elif', 'else', 'except', 'finally', 'for', 'from', 'global', 'if', 'import', 'in', 'is', 'lambda', 'nonlocal', 'not', 'or', 'pass', 'raise', 'return', 'try', 'while', 'with', 'yield']\n"
     ]
    }
   ],
   "source": [
    "import keyword\n",
    "print(keyword.kwlist)"
   ]
  },
  {
   "cell_type": "code",
   "execution_count": 12,
   "metadata": {
    "ExecuteTime": {
     "end_time": "2020-11-21T08:36:52.380143Z",
     "start_time": "2020-11-21T08:36:52.366138Z"
    }
   },
   "outputs": [
    {
     "name": "stdout",
     "output_type": "stream",
     "text": [
      "(10+20j)\n"
     ]
    }
   ],
   "source": [
    "# lst = range(1,21)\n",
    "# out_lst = []\n",
    "# for i in lst:\n",
    "#     if i%2 == 0:\n",
    "#         out_lst.append(i**2)\n",
    "# print(out_lst)\n",
    "\n",
    "c = 10 + 20j\n",
    "print(10+20j)"
   ]
  },
  {
   "cell_type": "code",
   "execution_count": null,
   "metadata": {},
   "outputs": [],
   "source": [
    "# Nested Conditional Statment\n",
    "year = int(input('Enter an Year: '))\n",
    "if year % 4 == 0:\n",
    "    if year % 100 == 0:\n",
    "        if year % 400 == 0:\n",
    "            print('Year is leap year')\n",
    "        else:\n",
    "            print('Year is not a leap year')\n",
    "    else:\n",
    "        print('Year is leap year')\n",
    "else:\n",
    "    print('Year is not a leap year')"
   ]
  },
  {
   "cell_type": "code",
   "execution_count": 2,
   "metadata": {
    "ExecuteTime": {
     "end_time": "2020-11-28T06:59:27.415867Z",
     "start_time": "2020-11-28T06:59:20.532458Z"
    }
   },
   "outputs": [
    {
     "name": "stdout",
     "output_type": "stream",
     "text": [
      "Any number between 0-9:3\n",
      "Incorrect Guess\n",
      "Any number between 0-9:3\n",
      "Incorrect Guess\n",
      "Any number between 0-9:3\n",
      "Incorrect Guess\n",
      "Any number between 0-9:6\n",
      "Correct Guess\n"
     ]
    }
   ],
   "source": [
    "num = 6\n",
    "while True:\n",
    "    num = int(input(\"Any number between 0-9:\"))\n",
    "    if num == 6:\n",
    "        print(\"Correct Guess\")\n",
    "        break\n",
    "    else:\n",
    "        print(\"Incorrect Guess\")\n",
    "        "
   ]
  },
  {
   "cell_type": "code",
   "execution_count": 1,
   "metadata": {
    "ExecuteTime": {
     "end_time": "2020-11-28T09:00:43.180957Z",
     "start_time": "2020-11-28T09:00:40.990142Z"
    }
   },
   "outputs": [
    {
     "name": "stdout",
     "output_type": "stream",
     "text": [
      "Enter Number of Terms in the Sequnce: 1\n",
      "0\n"
     ]
    }
   ],
   "source": [
    "###  Fibonacci Sequence Using Function\n",
    "\n",
    "def fib_seq(num):\n",
    "    if num <= 1:\n",
    "        return(num)\n",
    "    else:\n",
    "        return(fib_seq(num-1) + fib_seq(num-2))\n",
    "\n",
    "n_terms = int(input(\"Enter Number of Terms in the Sequnce: \"))\n",
    "\n",
    "if n_terms <= 0:\n",
    "    print('Enter a Positive Number')\n",
    "else:\n",
    "    for i in range(n_terms):\n",
    "        print(fib_seq(i))\n"
   ]
  },
  {
   "cell_type": "code",
   "execution_count": 15,
   "metadata": {
    "ExecuteTime": {
     "end_time": "2020-11-28T10:13:00.431565Z",
     "start_time": "2020-11-28T10:12:55.336050Z"
    }
   },
   "outputs": [
    {
     "name": "stdout",
     "output_type": "stream",
     "text": [
      "Enter 1st Number30\n",
      "Enter 2nd Number40\n",
      "(70.0, 10.0, 1200.0, 0.75, 30.0, 0.0)\n"
     ]
    }
   ],
   "source": [
    "### Function\n",
    "def my_oper():\n",
    "    num1 = float(input(\"Enter 1st Number\"))\n",
    "    num2 = float(input(\"Enter 2nd Number\"))\n",
    "    res_add = num1 + num2\n",
    "    if num1 > num2:\n",
    "        res_sub = num1 - num2\n",
    "    else:\n",
    "        res_sub = num2 - num1\n",
    "    res_prod = num1 * num2\n",
    "    res_trudiv = num1 / num2\n",
    "    res_rema = num1 % num2\n",
    "    res_quo = num1 // num2\n",
    "    return res_add, res_sub, res_prod, res_trudiv, res_rema, res_quo\n",
    "\n",
    "print(my_oper()) # Default packing is a tuple"
   ]
  },
  {
   "cell_type": "code",
   "execution_count": 9,
   "metadata": {
    "ExecuteTime": {
     "end_time": "2020-11-28T12:52:37.076696Z",
     "start_time": "2020-11-28T12:52:37.061696Z"
    }
   },
   "outputs": [
    {
     "name": "stdout",
     "output_type": "stream",
     "text": [
      "Hello\n",
      "Hey, Bushitoe\n",
      "Hey, Dumbachu, Gushitoe\n"
     ]
    }
   ],
   "source": [
    "def greet_user():\n",
    "    ''' Displays a simple greeting '''\n",
    "    print('Hello')\n",
    "greet_user()\n",
    "\n",
    "a = 'dumbachu, gushitoe'\n",
    "def greet_user(user_name): # Notice, function takes an arugment\n",
    "    ''' Displays a simple greeting '''\n",
    "    print(f'Hey, {user_name.title()}')\n",
    "greet_user('bushitoe') # Positional Argument is a must\n",
    "greet_user(a) # Can provide a variable as well\n"
   ]
  },
  {
   "cell_type": "code",
   "execution_count": null,
   "metadata": {},
   "outputs": [],
   "source": []
  }
 ],
 "metadata": {
  "kernelspec": {
   "display_name": "Python 3",
   "language": "python",
   "name": "python3"
  },
  "language_info": {
   "codemirror_mode": {
    "name": "ipython",
    "version": 3
   },
   "file_extension": ".py",
   "mimetype": "text/x-python",
   "name": "python",
   "nbconvert_exporter": "python",
   "pygments_lexer": "ipython3",
   "version": "3.8.5"
  },
  "varInspector": {
   "cols": {
    "lenName": 16,
    "lenType": 16,
    "lenVar": 40
   },
   "kernels_config": {
    "python": {
     "delete_cmd_postfix": "",
     "delete_cmd_prefix": "del ",
     "library": "var_list.py",
     "varRefreshCmd": "print(var_dic_list())"
    },
    "r": {
     "delete_cmd_postfix": ") ",
     "delete_cmd_prefix": "rm(",
     "library": "var_list.r",
     "varRefreshCmd": "cat(var_dic_list()) "
    }
   },
   "position": {
    "height": "348px",
    "left": "1471px",
    "right": "20px",
    "top": "120px",
    "width": "351px"
   },
   "types_to_exclude": [
    "module",
    "function",
    "builtin_function_or_method",
    "instance",
    "_Feature"
   ],
   "window_display": false
  }
 },
 "nbformat": 4,
 "nbformat_minor": 4
}
