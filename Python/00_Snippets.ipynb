{
 "cells": [
  {
   "cell_type": "markdown",
   "metadata": {},
   "source": [
    "### Class Notes\n",
    "    1. Python is dynamic type language. i.e. variable type need not be declared up front.\n",
    "    2. Note in the example below, type is not defined for variables a, b and c.\n",
    "    3. Python is platform independant.\n",
    "    4. Pyton is portable language.\n",
    "    5. Bytecode will be generated only when there is no compiler error.\n",
    "    6. However, bytecode will be generated if there is a runtime error. [Example, say you have an incorrect syntax, it will lead to compiler error, say you have asked to print a variable that is not used then it would lead to runtime error]\n",
    "    7. This feature allows you to identify the line where the error is made.\n",
    "    8. Python is extensible (code from other programming languages can be used in Python) and embedded (code from Python can be used in other programs) Ex: Numpy is written in C, You can directly use in Python"
   ]
  },
  {
   "cell_type": "code",
   "execution_count": 1,
   "metadata": {},
   "outputs": [
    {
     "name": "stdout",
     "output_type": "stream",
     "text": [
      "Product of 1000 and 100.12 = 100120.0\n",
      "# of Bytes Allocated to c = 24\n"
     ]
    }
   ],
   "source": [
    "a = 1000\n",
    "b = 100.12\n",
    "c = a*b\n",
    "print (f\"Product of {a} and {b} = {c}\")\n",
    "\n",
    "# What is the memory allocated to c?\n",
    "\n",
    "import sys\n",
    "print(f\"# of Bytes Allocated to c = {sys.getsizeof(c)}\")"
   ]
  },
  {
   "cell_type": "code",
   "execution_count": 2,
   "metadata": {},
   "outputs": [
    {
     "name": "stdout",
     "output_type": "stream",
     "text": [
      "1100.12\n"
     ]
    }
   ],
   "source": [
    "# The idea of cells is to execute them independantly as needed. In this cell, a and b are commented out.\n",
    "# You need to execute the above block 1st, else it will throw a syntax error.\n",
    "#a = 1000\n",
    "#b = 136.6\n",
    "c = a+b\n",
    "print(c)"
   ]
  },
  {
   "cell_type": "code",
   "execution_count": 3,
   "metadata": {},
   "outputs": [
    {
     "name": "stdout",
     "output_type": "stream",
     "text": [
      "['ArithmeticError', 'AssertionError', 'AttributeError', 'BaseException', 'BlockingIOError', 'BrokenPipeError', 'BufferError', 'BytesWarning', 'ChildProcessError', 'ConnectionAbortedError', 'ConnectionError', 'ConnectionRefusedError', 'ConnectionResetError', 'DeprecationWarning', 'EOFError', 'Ellipsis', 'EnvironmentError', 'Exception', 'False', 'FileExistsError', 'FileNotFoundError', 'FloatingPointError', 'FutureWarning', 'GeneratorExit', 'IOError', 'ImportError', 'ImportWarning', 'IndentationError', 'IndexError', 'InterruptedError', 'IsADirectoryError', 'KeyError', 'KeyboardInterrupt', 'LookupError', 'MemoryError', 'ModuleNotFoundError', 'NameError', 'None', 'NotADirectoryError', 'NotImplemented', 'NotImplementedError', 'OSError', 'OverflowError', 'PendingDeprecationWarning', 'PermissionError', 'ProcessLookupError', 'RecursionError', 'ReferenceError', 'ResourceWarning', 'RuntimeError', 'RuntimeWarning', 'StopAsyncIteration', 'StopIteration', 'SyntaxError', 'SyntaxWarning', 'SystemError', 'SystemExit', 'TabError', 'TimeoutError', 'True', 'TypeError', 'UnboundLocalError', 'UnicodeDecodeError', 'UnicodeEncodeError', 'UnicodeError', 'UnicodeTranslateError', 'UnicodeWarning', 'UserWarning', 'ValueError', 'Warning', 'WindowsError', 'ZeroDivisionError', '__IPYTHON__', '__build_class__', '__debug__', '__doc__', '__import__', '__loader__', '__name__', '__package__', '__spec__', 'abs', 'all', 'any', 'ascii', 'bin', 'bool', 'breakpoint', 'bytearray', 'bytes', 'callable', 'chr', 'classmethod', 'compile', 'complex', 'copyright', 'credits', 'delattr', 'dict', 'dir', 'display', 'divmod', 'enumerate', 'eval', 'exec', 'filter', 'float', 'format', 'frozenset', 'get_ipython', 'getattr', 'globals', 'hasattr', 'hash', 'help', 'hex', 'id', 'input', 'int', 'isinstance', 'issubclass', 'iter', 'len', 'license', 'list', 'locals', 'map', 'max', 'memoryview', 'min', 'next', 'object', 'oct', 'open', 'ord', 'pow', 'print', 'property', 'range', 'repr', 'reversed', 'round', 'set', 'setattr', 'slice', 'sorted', 'staticmethod', 'str', 'sum', 'super', 'tuple', 'type', 'vars', 'zip']\n"
     ]
    }
   ],
   "source": [
    "print(dir(__builtins__)) # To Get the Built in Errors"
   ]
  },
  {
   "cell_type": "markdown",
   "metadata": {},
   "source": [
    "### Executing Python from Command Prompt\n",
    "    1. Write and Save the source code in *.py\n",
    "    2. Open CMD and go to the directory where *.py is stored.\n",
    "    3. > python *.py --> Executes the code.\n",
    "    4. To generate the byte code use the command below:\n",
    "        a. python -m py_compile *.py\n",
    "        b. A folder will be generated with __pycache__. This will house the byte code\n",
    "        c. can we do this via Jupyter notebook?\n"
   ]
  },
  {
   "cell_type": "code",
   "execution_count": 4,
   "metadata": {},
   "outputs": [
    {
     "name": "stdout",
     "output_type": "stream",
     "text": [
      "140728556009536\n",
      "140728556009856\n",
      "2260805481744\n",
      "140728556009536\n",
      "140728556009856\n",
      "2260805481584\n",
      "183\n"
     ]
    }
   ],
   "source": [
    "# Object Re-usabbility Concept\n",
    "\n",
    "import sys\n",
    "\n",
    "a=10\n",
    "b=20\n",
    "c=257\n",
    "d=10\n",
    "e=20\n",
    "f=257\n",
    "print(id(a))\n",
    "print(id(b))\n",
    "print(id(c))\n",
    "print(id(d))\n",
    "print(id(e))\n",
    "print(id(f))\n",
    "print(sys.getrefcount(10)) # Get the number of times 10 was referenced.\n",
    "\n",
    "# You will see that the id of a, d; b, e are the same.\n",
    "# Though c & f are same, the IDs will be different\n",
    "# That is object will be re-used iff int - 5 to 256 | String '0-9', 'A-Z', 'a-z' and _\n",
    "# Integer > 256 Float, Complex, Derived does NOT follow object re-usability\n",
    "# Number of bytes allocated to a floating variable is 24 always\n"
   ]
  },
  {
   "cell_type": "code",
   "execution_count": null,
   "metadata": {},
   "outputs": [],
   "source": []
  }
 ],
 "metadata": {
  "kernelspec": {
   "display_name": "Python 3",
   "language": "python",
   "name": "python3"
  },
  "language_info": {
   "codemirror_mode": {
    "name": "ipython",
    "version": 3
   },
   "file_extension": ".py",
   "mimetype": "text/x-python",
   "name": "python",
   "nbconvert_exporter": "python",
   "pygments_lexer": "ipython3",
   "version": "3.8.3"
  }
 },
 "nbformat": 4,
 "nbformat_minor": 4
}
