{
 "cells": [
  {
   "cell_type": "markdown",
   "metadata": {},
   "source": [
    "### Program to Convert Temperature from a give scale to other scales"
   ]
  },
  {
   "cell_type": "code",
   "execution_count": 3,
   "metadata": {
    "ExecuteTime": {
     "end_time": "2020-11-08T09:16:41.876995Z",
     "start_time": "2020-11-08T09:16:37.344773Z"
    }
   },
   "outputs": [
    {
     "name": "stdout",
     "output_type": "stream",
     "text": [
      "Temperature to be converted along with the suffix C, F, R, K:\n",
      "100C\n",
      "100.0 °C is: 212.0 °F\n",
      "100.0 °C is: 373.2 °K\n",
      "100.0 °C is: 671.7 °R\n"
     ]
    }
   ],
   "source": [
    "ask = input(\"Temperature to be converted along with the suffix C, F, R, K:\\n\")\n",
    "temperature = float(ask[:-1])\n",
    "scale = ask[-1]\n",
    "temperature = float(temperature)\n",
    "if scale.upper() == \"C\":\n",
    "    TF = round(9/5*temperature+32,1)\n",
    "    TK = round(273.16+temperature,1)\n",
    "    TR = round(TF+459.67,1)\n",
    "    print(f\"{temperature} \\u00B0{scale.upper()} is: {TF} \\u00B0F\")\n",
    "    print(f\"{temperature} \\u00B0{scale.upper()} is: {TK} \\u00B0K\")\n",
    "    print(f\"{temperature} \\u00B0{scale.upper()} is: {TR} \\u00B0R\")\n",
    "\n",
    "elif scale.upper() == \"F\":\n",
    "    TC = round(5/9*(temperature-32),1)\n",
    "    TK = round(TC+273.16,1)\n",
    "    TR = round(temperature+459.67,1)\n",
    "    print(f\"{temperature} \\u00B0{scale.upper()} is: {TC} \\u00B0C\")\n",
    "    print(f\"{temperature} \\u00B0{scale.upper()} is: {TK} \\u00B0K\")\n",
    "    print(f\"{temperature} \\u00B0{scale.upper()} is: {TR} \\u00B0R\")\n",
    "\n",
    "elif scale.upper() == \"K\":\n",
    "    TC = round(temperature - 273.16,1)\n",
    "    TF = round(9/5*TC+32,1)\n",
    "    TR = round(TF+459.67)\n",
    "    print(f\"{temperature} \\u00B0{scale.upper()} is: {TC} \\u00B0C\")\n",
    "    print(f\"{temperature} \\u00B0{scale.upper()} is: {TF} \\u00B0F\")\n",
    "    print(f\"{temperature} \\u00B0{scale.upper()} is: {TR} \\u00B0R\")\n",
    "\n",
    "elif scale.upper() == \"R\":\n",
    "    TF = round(temperature - 459.67,1)\n",
    "    TC = round(5/9*(TF-32),1)\n",
    "    TK = round(TC+273.16,1)\n",
    "    print(f\"{temperature} \\u00B0{scale.upper()} is: {TC} \\u00B0C\")\n",
    "    print(f\"{temperature} \\u00B0{scale.upper()} is: {TF} \\u00B0F\")\n",
    "    print(f\"{temperature} \\u00B0{scale.upper()} is: {TK} \\u00B0K\")\n",
    "    \n",
    "else:\n",
    "    print(\"Input temperature to be suffixed with C, F, R or K \")"
   ]
  },
  {
   "cell_type": "code",
   "execution_count": null,
   "metadata": {},
   "outputs": [],
   "source": []
  }
 ],
 "metadata": {
  "kernelspec": {
   "display_name": "Python 3",
   "language": "python",
   "name": "python3"
  },
  "language_info": {
   "codemirror_mode": {
    "name": "ipython",
    "version": 3
   },
   "file_extension": ".py",
   "mimetype": "text/x-python",
   "name": "python",
   "nbconvert_exporter": "python",
   "pygments_lexer": "ipython3",
   "version": "3.8.3"
  },
  "varInspector": {
   "cols": {
    "lenName": 16,
    "lenType": 16,
    "lenVar": 40
   },
   "kernels_config": {
    "python": {
     "delete_cmd_postfix": "",
     "delete_cmd_prefix": "del ",
     "library": "var_list.py",
     "varRefreshCmd": "print(var_dic_list())"
    },
    "r": {
     "delete_cmd_postfix": ") ",
     "delete_cmd_prefix": "rm(",
     "library": "var_list.r",
     "varRefreshCmd": "cat(var_dic_list()) "
    }
   },
   "position": {
    "height": "307px",
    "left": "549px",
    "right": "20px",
    "top": "120px",
    "width": "350px"
   },
   "types_to_exclude": [
    "module",
    "function",
    "builtin_function_or_method",
    "instance",
    "_Feature"
   ],
   "window_display": false
  }
 },
 "nbformat": 4,
 "nbformat_minor": 4
}
