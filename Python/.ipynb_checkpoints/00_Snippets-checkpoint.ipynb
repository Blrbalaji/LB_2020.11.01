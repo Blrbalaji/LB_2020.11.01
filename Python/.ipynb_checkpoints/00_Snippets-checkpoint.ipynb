{
 "cells": [
  {
   "cell_type": "markdown",
   "metadata": {},
   "source": [
    "# Command Reference\n",
    "\n",
    "print((dir(__builtins__))) # To Get the Built in Errors\n",
    "\n",
    "# To get memory address of variable names\n",
    "a = 10\n",
    "b = 20.1 \n",
    "print(id(a))\n",
    "print(id(b))\n"
   ]
  },
  {
   "cell_type": "code",
   "execution_count": 1,
   "metadata": {},
   "outputs": [
    {
     "name": "stdout",
     "output_type": "stream",
     "text": [
      "# of Bytes Allocated to a & b = 28 & 24 \n"
     ]
    }
   ],
   "source": [
    "# Snippet 01 - Find Memeory Allocation in Python\n",
    "\n",
    "import sys\n",
    "\n",
    "a = 300\n",
    "b = 273.16\n",
    "print(f\"# of Bytes Allocated to a & b = {sys.getsizeof(a)} & {sys.getsizeof(b)} \")\n",
    "\n",
    "# Note: Irrespecitve of the float value the maximum allocated size for a float is 24 bytes\n",
    "\n",
    "\n"
   ]
  },
  {
   "cell_type": "markdown",
   "metadata": {},
   "source": [
    "### Snippet 02 - Understanding Source Code | Byte Code - You Need to Use Command Line Interface (CLI)\n",
    "    1. Write and Save the source code in *.py\n",
    "    2. Open CMD and go to the directory where *.py is stored.\n",
    "    3. > python *.py\n",
    "    4. To generate the byte code use the command:\n",
    "        > python -m py_compile *.py (-m implies import module, py_compile is the module that only compiles, f1.py is the filename)\n",
    "        A folder will be generated with __pycache__. This will house the byte code"
   ]
  },
  {
   "cell_type": "code",
   "execution_count": 2,
   "metadata": {},
   "outputs": [
    {
     "name": "stdout",
     "output_type": "stream",
     "text": [
      "140706059401280\n",
      "140706059401280\n",
      "1978353644784\n",
      "1978353644848\n",
      "1978343456240\n",
      "1978353644432\n",
      "1978281642352\n",
      "1978281642352\n"
     ]
    }
   ],
   "source": [
    "# Object Re-usabbility Concept & Interning\n",
    "\n",
    "# Interning: Defined as creation of objects during runtime\n",
    "\n",
    "# Objects must be re-used if the following conditions are met\n",
    "# data type is integer from -5 to 256\n",
    "# data type is string \"0-9\" \"a-z\" \"A-Z\", _(underscore)\n",
    "\n",
    "# data type floats, complex or derived does not follow object re-usability concept\n",
    "\n",
    "# Example: You will notice that the memory address of both a & b are identical\n",
    "\n",
    "a = 10\n",
    "b = 10\n",
    "print(id(a)) \n",
    "print(id(b))\n",
    "\n",
    "# Example: You will notice that the memory address of both a & b are different as it exceeds 256\n",
    "\n",
    "a = 257\n",
    "b = 257\n",
    "print(id(a)) \n",
    "print(id(b))\n",
    "\n",
    "# Example: Memory address of both a & b are different as float does not follow object reusability \n",
    "\n",
    "a = 20.1\n",
    "b = 20.1\n",
    "print(id(a)) \n",
    "print(id(b))\n",
    "\n",
    "# Example: Memory address of both a & b are same.\n",
    "\n",
    "a = str('z')\n",
    "b = str('z')\n",
    "print(id(a)) \n",
    "print(id(b))"
   ]
  },
  {
   "cell_type": "code",
   "execution_count": null,
   "metadata": {},
   "outputs": [],
   "source": []
  }
 ],
 "metadata": {
  "kernelspec": {
   "display_name": "Python 3",
   "language": "python",
   "name": "python3"
  },
  "language_info": {
   "codemirror_mode": {
    "name": "ipython",
    "version": 3
   },
   "file_extension": ".py",
   "mimetype": "text/x-python",
   "name": "python",
   "nbconvert_exporter": "python",
   "pygments_lexer": "ipython3",
   "version": "3.8.3"
  }
 },
 "nbformat": 4,
 "nbformat_minor": 4
}
