{
 "cells": [
  {
   "cell_type": "code",
   "execution_count": 11,
   "metadata": {
    "ExecuteTime": {
     "end_time": "2020-11-25T15:30:25.699557Z",
     "start_time": "2020-11-25T15:30:21.097774Z"
    }
   },
   "outputs": [
    {
     "name": "stdout",
     "output_type": "stream",
     "text": [
      "Enter an integer between 0 to 9: 7\n",
      "seven\n"
     ]
    }
   ],
   "source": [
    "### Loop Assignment \n",
    "\n",
    "lst=['zero','one','two','three','four','five','six','seven','eight','nine']\n",
    "\n",
    "num = int(input(\"Enter an integer between 0 to 9: \"))\n",
    "\n",
    "if num < 0 or num > 9:\n",
    "    print(\"Number is Outside of Range\")\n",
    "else:\n",
    "    print(lst[num])\n"
   ]
  },
  {
   "cell_type": "code",
   "execution_count": 5,
   "metadata": {
    "ExecuteTime": {
     "end_time": "2020-11-25T15:57:45.309032Z",
     "start_time": "2020-11-25T15:57:38.423504Z"
    }
   },
   "outputs": [
    {
     "name": "stdout",
     "output_type": "stream",
     "text": [
      "Enter 1st number: -1\n",
      "Enter 2nd number: 2\n",
      "Calc Option: Add = 1, Sub = 2, Mult = 3, Divide = 4, quo = 5, rem = 6, Expo = 7, Exit = 8 \t3\n",
      "-2.0\n"
     ]
    }
   ],
   "source": [
    "num1 = float(input(\"Enter 1st number: \"))\n",
    "num2 = float(input (\"Enter 2nd number: \"))\n",
    "oper = int(input(\"Calc Option: Add = 1, Sub = 2, Mult = 3, Divide = 4, quo = 5, rem = 6, Expo = 7, Exit = 8 \\t\"))\n",
    "\n",
    "if oper > 8 or oper < 1:\n",
    "    print(\"Pick the Correct Operation\")\n",
    "\n",
    "elif oper == 1:\n",
    "    add = num1 + num2\n",
    "    print(add)\n",
    "elif oper == 2:\n",
    "    sub = num1 - num2\n",
    "    print(sub)\n",
    "elif oper == 3:\n",
    "    mul = num1*num2\n",
    "    print(mul)\n",
    "elif oper == 4:\n",
    "    truediv = num1/num2\n",
    "    print(truediv)\n",
    "elif oper == 5:\n",
    "    quo = num1//num2\n",
    "    print(quo)\n",
    "elif oper == 6:\n",
    "    remi = num1%num2\n",
    "    print(remi)\n",
    "elif oper == 7:\n",
    "    expo = num1**num2\n",
    "    print(expo)\n",
    "elif oper == 8:\n",
    "    pass\n",
    " \n",
    "\n",
    "\n",
    "\n",
    "\n",
    "\n"
   ]
  },
  {
   "cell_type": "code",
   "execution_count": 12,
   "metadata": {
    "ExecuteTime": {
     "end_time": "2020-11-25T16:08:42.654774Z",
     "start_time": "2020-11-25T16:08:40.512727Z"
    }
   },
   "outputs": [
    {
     "name": "stdout",
     "output_type": "stream",
     "text": [
      "Enter year in YYYY format: 1800\n",
      "Year is Not a Leap Year\n"
     ]
    }
   ],
   "source": [
    "year = int(input(\"Enter year in YYYY format: \"))\n",
    "if year % 4 == 0:\n",
    "    if year % 100 == 0:\n",
    "        if year % 400 == 0:\n",
    "            print(\"Year is a Leap Year\")\n",
    "        else:\n",
    "            print(\"Year is Not a Leap Year\")\n",
    "    else:\n",
    "        print(\"Year is a Leap Year\")\n",
    "else:\n",
    "    print(\"Year is a Leap Year\")\n",
    "                "
   ]
  },
  {
   "cell_type": "code",
   "execution_count": 14,
   "metadata": {
    "ExecuteTime": {
     "end_time": "2020-11-25T16:10:51.441919Z",
     "start_time": "2020-11-25T16:10:46.084697Z"
    }
   },
   "outputs": [
    {
     "name": "stdout",
     "output_type": "stream",
     "text": [
      "Enter a number: 51\n",
      "Number 51 is Odd\n"
     ]
    }
   ],
   "source": [
    "num1 = int(input(\"Enter a number: \"))\n",
    "if num1 % 2 == 0:\n",
    "    print(f\"Number {num1} is Even\")\n",
    "else:\n",
    "    print(f\"Number {num1} is Odd\")"
   ]
  },
  {
   "cell_type": "code",
   "execution_count": 18,
   "metadata": {
    "ExecuteTime": {
     "end_time": "2020-11-25T16:21:01.078821Z",
     "start_time": "2020-11-25T16:20:57.294760Z"
    }
   },
   "outputs": [
    {
     "name": "stdout",
     "output_type": "stream",
     "text": [
      "Enter 1st number: -100\n",
      "Enter 2nd number: -200\n",
      "Number -100.0 is greater than Number -200.0\n"
     ]
    }
   ],
   "source": [
    "# Using IF Else Statements:\n",
    "    \n",
    "num1 = float(input(\"Enter 1st number: \"))\n",
    "num2 = float(input (\"Enter 2nd number: \"))\n",
    "\n",
    "\n",
    "if num1 > num2:\n",
    "    print(f\"Number {num1} is greater than Number {num2}\")\n",
    "elif num1 < num2:\n",
    "    print(f\"Number {num1} is smaller than Number {num2}\")\n",
    "else:\n",
    "    print(f\"Numbers {num1} and {num2} are equal\")\n",
    "\n"
   ]
  },
  {
   "cell_type": "code",
   "execution_count": 19,
   "metadata": {
    "ExecuteTime": {
     "end_time": "2020-11-25T16:21:11.323642Z",
     "start_time": "2020-11-25T16:21:07.761971Z"
    }
   },
   "outputs": [
    {
     "name": "stdout",
     "output_type": "stream",
     "text": [
      "Enter 1st number: 100\n",
      "Enter 2nd number: 150\n",
      "num2 is greater than num1\n"
     ]
    }
   ],
   "source": [
    "# Using Ternary Operation\n",
    "\n",
    "num1 = float(input(\"Enter 1st number: \"))\n",
    "num2 = float(input (\"Enter 2nd number: \"))\n",
    "\n",
    "print(\"Numbers are Equal\" if num1 == num2 else \"num1 is greater than num2\" if num1 > num2 else \"num2 is greater than num1\")"
   ]
  },
  {
   "cell_type": "code",
   "execution_count": 22,
   "metadata": {
    "ExecuteTime": {
     "end_time": "2020-11-25T16:25:31.000814Z",
     "start_time": "2020-11-25T16:25:27.134969Z"
    }
   },
   "outputs": [
    {
     "name": "stdout",
     "output_type": "stream",
     "text": [
      "Enter 1st number: 100\n",
      "Enter 2nd number: 300\n",
      "Enter 3rd number: 200\n",
      "num2 is greater than num1 and num3\n"
     ]
    }
   ],
   "source": [
    "num1 = float(input(\"Enter 1st number: \"))\n",
    "num2 = float(input (\"Enter 2nd number: \"))\n",
    "num3 = float(input (\"Enter 3rd number: \"))\n",
    "\n",
    "\n",
    "if num1 > num2 and num1 > num3:\n",
    "    print(\"num1 is greater than num2 and num3\")\n",
    "elif num2 > num3 and num2 > num1:\n",
    "    print(\"num2 is greater than num1 and num3\")\n",
    "elif num3 > num1 and num3 > num1:\n",
    "    print(\"num3 is greater than num1 and num2\")\n",
    "else:\n",
    "    print(\"All numbers are equal\")"
   ]
  },
  {
   "cell_type": "code",
   "execution_count": 25,
   "metadata": {
    "ExecuteTime": {
     "end_time": "2020-11-25T16:28:54.454125Z",
     "start_time": "2020-11-25T16:28:48.424228Z"
    }
   },
   "outputs": [
    {
     "name": "stdout",
     "output_type": "stream",
     "text": [
      "Enter 1st number: 500\n",
      "Enter 2nd number: 400\n",
      "Enter 3rd number: 200\n",
      "num1 is greater\n"
     ]
    }
   ],
   "source": [
    "num1 = float(input(\"Enter 1st number: \"))\n",
    "num2 = float(input (\"Enter 2nd number: \"))\n",
    "num3 = float(input (\"Enter 3rd number: \"))\n",
    "print(\"Equal\" if num1 == num2 and num2 == num3 else \"num1 is greater\" if num1 > num2 and num1>num3 else \"num2 is greater\" if num2 > num3 and num2 > num1 else \"num3 is greater\")"
   ]
  },
  {
   "cell_type": "code",
   "execution_count": 28,
   "metadata": {
    "ExecuteTime": {
     "end_time": "2020-11-25T16:30:58.185392Z",
     "start_time": "2020-11-25T16:30:58.166396Z"
    }
   },
   "outputs": [
    {
     "name": "stdout",
     "output_type": "stream",
     "text": [
      "Length of the String: 55\n"
     ]
    }
   ],
   "source": [
    "my_str = 'Write a Python program to find the length of the my_str'\n",
    "print(f\"Length of the String: {len(my_str)}\")"
   ]
  },
  {
   "cell_type": "code",
   "execution_count": 30,
   "metadata": {
    "ExecuteTime": {
     "end_time": "2020-11-25T16:34:34.575982Z",
     "start_time": "2020-11-25T16:34:34.571993Z"
    }
   },
   "outputs": [
    {
     "name": "stdout",
     "output_type": "stream",
     "text": [
      "9\n"
     ]
    }
   ],
   "source": [
    "my_str = 'peter piper picked a peck of pickled peppers.\\n'\n",
    "count = 0\n",
    "for i in my_str:\n",
    "    if i == 'p':\n",
    "        count += 1\n",
    "print(count)"
   ]
  },
  {
   "cell_type": "code",
   "execution_count": 35,
   "metadata": {
    "ExecuteTime": {
     "end_time": "2020-11-25T16:43:25.973137Z",
     "start_time": "2020-11-25T16:43:25.955186Z"
    }
   },
   "outputs": [
    {
     "name": "stdout",
     "output_type": "stream",
     "text": [
      "0\n",
      "6\n",
      "8\n",
      "12\n",
      "21\n",
      "29\n",
      "37\n",
      "39\n",
      "40\n"
     ]
    }
   ],
   "source": [
    "my_str = list('peter piper picked a peck of pickled peppers')\n",
    "for i in range(0,len(my_str)):\n",
    "    if my_str[i] == 'p':\n",
    "        print(i)"
   ]
  },
  {
   "cell_type": "code",
   "execution_count": 38,
   "metadata": {
    "ExecuteTime": {
     "end_time": "2020-11-25T16:46:50.295258Z",
     "start_time": "2020-11-25T16:46:50.285284Z"
    }
   },
   "outputs": [
    {
     "name": "stdout",
     "output_type": "stream",
     "text": [
      "['peter', 'piper', 'picked', 'a', 'peck', 'of', 'pickled', 'peppers.']\n"
     ]
    }
   ],
   "source": [
    "my_str = 'peter piper picked a peck of pickled peppers.'\n",
    "\n",
    "outlst = my_str.split()\n",
    "print(outlst)"
   ]
  },
  {
   "cell_type": "code",
   "execution_count": 47,
   "metadata": {
    "ExecuteTime": {
     "end_time": "2020-11-25T17:01:05.178652Z",
     "start_time": "2020-11-25T17:01:05.167645Z"
    }
   },
   "outputs": [
    {
     "name": "stdout",
     "output_type": "stream",
     "text": [
      "peter piper picked a peck of pickled peppers.\n",
      "['peppers.', 'pickled', 'of', 'peck', 'a', 'picked', 'piper', 'peter']\n"
     ]
    }
   ],
   "source": [
    "my_str = 'peter piper picked a peck of pickled peppers.'\n",
    "outlst = my_str.split()\n",
    "outlst.reverse()\n",
    "print(my_str)\n",
    "print(outlst)\n",
    "\n"
   ]
  },
  {
   "cell_type": "code",
   "execution_count": null,
   "metadata": {},
   "outputs": [],
   "source": []
  }
 ],
 "metadata": {
  "kernelspec": {
   "display_name": "Python 3",
   "language": "python",
   "name": "python3"
  },
  "language_info": {
   "codemirror_mode": {
    "name": "ipython",
    "version": 3
   },
   "file_extension": ".py",
   "mimetype": "text/x-python",
   "name": "python",
   "nbconvert_exporter": "python",
   "pygments_lexer": "ipython3",
   "version": "3.8.5"
  },
  "varInspector": {
   "cols": {
    "lenName": 16,
    "lenType": 16,
    "lenVar": 40
   },
   "kernels_config": {
    "python": {
     "delete_cmd_postfix": "",
     "delete_cmd_prefix": "del ",
     "library": "var_list.py",
     "varRefreshCmd": "print(var_dic_list())"
    },
    "r": {
     "delete_cmd_postfix": ") ",
     "delete_cmd_prefix": "rm(",
     "library": "var_list.r",
     "varRefreshCmd": "cat(var_dic_list()) "
    }
   },
   "types_to_exclude": [
    "module",
    "function",
    "builtin_function_or_method",
    "instance",
    "_Feature"
   ],
   "window_display": false
  }
 },
 "nbformat": 4,
 "nbformat_minor": 4
}
