{
 "cells": [
  {
   "cell_type": "code",
   "execution_count": 5,
   "metadata": {
    "ExecuteTime": {
     "end_time": "2020-11-25T13:22:15.852194Z",
     "start_time": "2020-11-25T13:22:15.836533Z"
    }
   },
   "outputs": [
    {
     "name": "stdout",
     "output_type": "stream",
     "text": [
      "<class 'int'>\n",
      "140731855877344\n"
     ]
    }
   ],
   "source": [
    "### IntAssignment-201124-154439 - Balaji Kannan\n",
    "\n",
    "num = 111\n",
    "print(type(num))\n",
    "print(id(num))\n",
    "\n"
   ]
  },
  {
   "cell_type": "code",
   "execution_count": 6,
   "metadata": {
    "ExecuteTime": {
     "end_time": "2020-11-25T13:22:26.132311Z",
     "start_time": "2020-11-25T13:22:26.127330Z"
    }
   },
   "outputs": [
    {
     "name": "stdout",
     "output_type": "stream",
     "text": [
      "140731855877664\n",
      "140731855877664\n"
     ]
    }
   ],
   "source": [
    "a = 121\n",
    "b = 121\n",
    "print(id(a))\n",
    "print(id(b))"
   ]
  },
  {
   "cell_type": "code",
   "execution_count": 7,
   "metadata": {
    "ExecuteTime": {
     "end_time": "2020-11-25T13:22:29.673273Z",
     "start_time": "2020-11-25T13:22:29.664296Z"
    }
   },
   "outputs": [
    {
     "name": "stdout",
     "output_type": "stream",
     "text": [
      "2399352132528\n",
      "2399352131952\n"
     ]
    }
   ],
   "source": [
    "a = 257\n",
    "b = 257\n",
    "print(id(a)) \n",
    "print(id(b))"
   ]
  },
  {
   "cell_type": "code",
   "execution_count": 10,
   "metadata": {
    "ExecuteTime": {
     "end_time": "2020-11-25T13:28:28.254749Z",
     "start_time": "2020-11-25T13:28:14.604103Z"
    }
   },
   "outputs": [
    {
     "name": "stdout",
     "output_type": "stream",
     "text": [
      "Enter an Integer: 5\n",
      "Enter an Integer: 2\n",
      "7 \n",
      " 3 \n",
      " 10 \n",
      " 2.5 \n",
      " 1 \n",
      " 2 \n",
      " 25\n"
     ]
    }
   ],
   "source": [
    "num1 = int(input(\"Enter an Integer: \"))\n",
    "num2 = int(input(\"Enter an Integer: \"))\n",
    "\n",
    "add = num1 + num2\n",
    "sub = num1 - num2  \n",
    "mul = num1*num2\n",
    "truediv = num1/num2\n",
    "remi = num1%num2\n",
    "quo = num1//num2\n",
    "expo = num1**num2\n",
    "\n",
    "print(add,'\\n', sub,'\\n', mul,'\\n', truediv,'\\n', remi,'\\n', quo,'\\n', expo)"
   ]
  },
  {
   "cell_type": "code",
   "execution_count": 13,
   "metadata": {
    "ExecuteTime": {
     "end_time": "2020-11-25T13:32:09.838072Z",
     "start_time": "2020-11-25T13:32:09.820455Z"
    }
   },
   "outputs": [
    {
     "name": "stdout",
     "output_type": "stream",
     "text": [
      "False\n",
      "True\n",
      "False\n",
      "True\n"
     ]
    }
   ],
   "source": [
    "num1 = -100\n",
    "num2 = 50\n",
    "print(num1 > num2)\n",
    "print(num1 < num2)\n",
    "print(num1 >= num2)\n",
    "print(num1 <= num2)"
   ]
  },
  {
   "cell_type": "code",
   "execution_count": 14,
   "metadata": {
    "ExecuteTime": {
     "end_time": "2020-11-25T13:32:53.456531Z",
     "start_time": "2020-11-25T13:32:53.446514Z"
    }
   },
   "outputs": [
    {
     "name": "stdout",
     "output_type": "stream",
     "text": [
      "True\n",
      "False\n"
     ]
    }
   ],
   "source": [
    "num1 = 100\n",
    "num2 = 100\n",
    "print(num1 == num2)\n",
    "print(num1 != num2)\n"
   ]
  },
  {
   "cell_type": "code",
   "execution_count": 15,
   "metadata": {
    "ExecuteTime": {
     "end_time": "2020-11-25T13:34:41.176719Z",
     "start_time": "2020-11-25T13:34:41.171769Z"
    }
   },
   "outputs": [
    {
     "name": "stdout",
     "output_type": "stream",
     "text": [
      "20\n",
      "0\n",
      "0\n",
      "0\n",
      "10\n",
      "20\n",
      "20\n",
      "0\n",
      "False\n",
      "True\n"
     ]
    }
   ],
   "source": [
    "print(10 and 20)\n",
    "print(0 and 20)\n",
    "print(20 and 0)\n",
    "print(0 and 0)\n",
    "\n",
    "print(10 or 20)\n",
    "print(0 or 20)\n",
    "print(20 or 0)\n",
    "print(0 or 0)\n",
    "\n",
    "print(not 10)\n",
    "print(not 0)"
   ]
  },
  {
   "cell_type": "code",
   "execution_count": 17,
   "metadata": {
    "ExecuteTime": {
     "end_time": "2020-11-25T13:37:16.513747Z",
     "start_time": "2020-11-25T13:37:16.498618Z"
    }
   },
   "outputs": [
    {
     "name": "stdout",
     "output_type": "stream",
     "text": [
      "0\n",
      "30\n",
      "30\n",
      "-11\n",
      "40\n",
      "2\n"
     ]
    }
   ],
   "source": [
    "print(10 & 20)\n",
    "print(10 | 20)\n",
    "print(10 ^ 20)\n",
    "print(~10)\n",
    "print(10 << 2)\n",
    "print(10 >> 2)\n"
   ]
  },
  {
   "cell_type": "code",
   "execution_count": 20,
   "metadata": {
    "ExecuteTime": {
     "end_time": "2020-11-25T13:38:48.828529Z",
     "start_time": "2020-11-25T13:38:48.811611Z"
    }
   },
   "outputs": [
    {
     "name": "stdout",
     "output_type": "stream",
     "text": [
      "True\n",
      "False\n",
      "False\n",
      "True\n"
     ]
    }
   ],
   "source": [
    "a = 10\n",
    "b = 10\n",
    "print (a is b) # True\n",
    "print(a is not b) # False\n",
    "\n",
    "a = 1000\n",
    "b = 1000\n",
    "print (a is b) # False IDs are compared\n",
    "print(a is not b) # True IDs are compared"
   ]
  },
  {
   "cell_type": "code",
   "execution_count": 21,
   "metadata": {
    "ExecuteTime": {
     "end_time": "2020-11-25T13:40:34.824520Z",
     "start_time": "2020-11-25T13:40:34.810557Z"
    }
   },
   "outputs": [
    {
     "name": "stdout",
     "output_type": "stream",
     "text": [
      "16\n"
     ]
    }
   ],
   "source": [
    "print(10+(10*32)//2**5 & 20+(~(~10))<<2)"
   ]
  },
  {
   "cell_type": "code",
   "execution_count": 27,
   "metadata": {
    "ExecuteTime": {
     "end_time": "2020-11-25T13:43:51.805405Z",
     "start_time": "2020-11-25T13:43:51.797427Z"
    }
   },
   "outputs": [
    {
     "name": "stdout",
     "output_type": "stream",
     "text": [
      "True\n",
      "True\n",
      "True\n",
      "True\n",
      "True\n"
     ]
    }
   ],
   "source": [
    "### Membership Operation\n",
    "print('2' in 'Python2.7.8')\n",
    "print(10 in [10,10.20, 10+20j, 'Python'])\n",
    "print(10 in (10,10.20, 10+20j, 'Python'))\n",
    "print(2 in {1,2,3})\n",
    "print(10 in range(20))"
   ]
  },
  {
   "cell_type": "code",
   "execution_count": 32,
   "metadata": {
    "ExecuteTime": {
     "end_time": "2020-11-25T13:47:36.240738Z",
     "start_time": "2020-11-25T13:47:36.222180Z"
    }
   },
   "outputs": [
    {
     "name": "stdout",
     "output_type": "stream",
     "text": [
      "10 3368 57863\n",
      "0b10011010010100\n",
      "0o23224\n",
      "0x2694\n"
     ]
    }
   ],
   "source": [
    "a = 0b1010\n",
    "b = 0o6450\n",
    "c = 0xe207\n",
    "\n",
    "print(bin(9876))\n",
    "print(oct(9876))\n",
    "print(hex(9876))\n"
   ]
  },
  {
   "cell_type": "code",
   "execution_count": 35,
   "metadata": {
    "ExecuteTime": {
     "end_time": "2020-11-25T13:51:38.044846Z",
     "start_time": "2020-11-25T13:51:38.032917Z"
    }
   },
   "outputs": [
    {
     "name": "stdout",
     "output_type": "stream",
     "text": [
      "80 3870 64222\n",
      "0b1010000\n",
      "0o7436\n",
      "0x1916\n",
      "0b1010000\n",
      "0b1111101011011110\n",
      "0o175336\n",
      "0o7436\n",
      "0x50\n",
      "0xfade\n"
     ]
    }
   ],
   "source": [
    "a = 0b1010000\n",
    "b = 0o7436\n",
    "c = 0xfade\n",
    "print(a,b,c)\n",
    "\n",
    "print(bin(80))\n",
    "print(oct(3870))\n",
    "print(hex(6422))\n",
    "print(bin(0b1010000))\n",
    "print(bin(0xfade))\n",
    "print(oct(0xfade))\n",
    "print(oct(0o7436))\n",
    "print(hex(0b1010000))\n",
    "print(hex(0xfade))"
   ]
  },
  {
   "cell_type": "code",
   "execution_count": null,
   "metadata": {},
   "outputs": [],
   "source": []
  }
 ],
 "metadata": {
  "kernelspec": {
   "display_name": "Python 3",
   "language": "python",
   "name": "python3"
  },
  "language_info": {
   "codemirror_mode": {
    "name": "ipython",
    "version": 3
   },
   "file_extension": ".py",
   "mimetype": "text/x-python",
   "name": "python",
   "nbconvert_exporter": "python",
   "pygments_lexer": "ipython3",
   "version": "3.8.5"
  },
  "varInspector": {
   "cols": {
    "lenName": 16,
    "lenType": 16,
    "lenVar": 40
   },
   "kernels_config": {
    "python": {
     "delete_cmd_postfix": "",
     "delete_cmd_prefix": "del ",
     "library": "var_list.py",
     "varRefreshCmd": "print(var_dic_list())"
    },
    "r": {
     "delete_cmd_postfix": ") ",
     "delete_cmd_prefix": "rm(",
     "library": "var_list.r",
     "varRefreshCmd": "cat(var_dic_list()) "
    }
   },
   "types_to_exclude": [
    "module",
    "function",
    "builtin_function_or_method",
    "instance",
    "_Feature"
   ],
   "window_display": false
  }
 },
 "nbformat": 4,
 "nbformat_minor": 4
}
