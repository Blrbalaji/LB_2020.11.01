{
 "cells": [
  {
   "cell_type": "markdown",
   "metadata": {},
   "source": [
    "### Code Snippets\n",
    "    1. Memory allocation for different class\n",
    "    2. Identifying Class\n",
    "    3. Memory Address and Object Reusability Concept\n",
    "    4. Get list of in-built keywords\n",
    "    5. Get a list of names defined within a module\n",
    "        Ex: import math --> What are all the names/functions listed under module math"
   ]
  },
  {
   "cell_type": "code",
   "execution_count": 5,
   "metadata": {
    "ExecuteTime": {
     "end_time": "2020-12-05T06:07:55.605371Z",
     "start_time": "2020-12-05T06:07:55.597354Z"
    }
   },
   "outputs": [
    {
     "name": "stdout",
     "output_type": "stream",
     "text": [
      "28, 24, 32, 60, 104, 88,728 \n"
     ]
    }
   ],
   "source": [
    "import sys\n",
    "\n",
    "a = 300\n",
    "b = 273.16\n",
    "c = 3+6j\n",
    "d = 'Hello World'\n",
    "e = ['1', '1.03', 100.23, 3+6j, 'Dolly', 'Anarchy99']\n",
    "f = ('1', '1.03', 100.23, 3+6j, 'Dolly', 'Anarchy99')\n",
    "g = {'1', '1.03', 100.23, 3+6j, 'Dolly', 'Anarchy99'}\n",
    "\n",
    "print(f\"{getsizeof(a)}, {getsizeof(b)}, {getsizeof(c)}, {getsizeof(d)}, {getsizeof(e)}, {getsizeof(f)},{getsizeof(g)} \")\n",
    "\n",
    "# Note: Irrespecitve of the float value the maximum allocated size for a float is 24 bytes\n",
    "# Note: For same items, memory requried for tuple < list < set"
   ]
  },
  {
   "cell_type": "code",
   "execution_count": 4,
   "metadata": {
    "ExecuteTime": {
     "end_time": "2020-12-05T06:07:35.538182Z",
     "start_time": "2020-12-05T06:07:35.527212Z"
    }
   },
   "outputs": [
    {
     "name": "stdout",
     "output_type": "stream",
     "text": [
      "Class Type: <class 'int'>, <class 'float'>, <class 'complex'>, <class 'str'>, <class 'list'>, <class 'tuple'>, <class 'set'> \n"
     ]
    }
   ],
   "source": [
    "import sys\n",
    "\n",
    "a = 300\n",
    "b = 273.16\n",
    "c = 3+6j\n",
    "d = 'Hello World'\n",
    "e = ['1', '1.03', 100.23, 3+6j, 'Dolly', 'Anarchy99']\n",
    "f = ('1', '1.03', 100.23, 3+6j, 'Dolly', 'Anarchy99')\n",
    "g = {'1', '1.03', 100.23, 3+6j, 'Dolly', 'Anarchy99'}\n",
    "\n",
    "print(f\"Class Type: {type(a)}, {type(b)}, {type(c)}, {type(d)}, {type(e)}, {type(f)}, {type(g)} \")"
   ]
  },
  {
   "cell_type": "code",
   "execution_count": 7,
   "metadata": {
    "ExecuteTime": {
     "end_time": "2020-12-05T06:10:53.403323Z",
     "start_time": "2020-12-05T06:10:53.382820Z"
    }
   },
   "outputs": [
    {
     "name": "stdout",
     "output_type": "stream",
     "text": [
      "Class id: 1541882586416, 1541882586896, 1541877959568, 1541882717616, 1541882468736, 1541882363616, 1541882199840 \n",
      "Class id: 140728039784448, 140728039784448, 1541882585296, 1541882585584 \n"
     ]
    }
   ],
   "source": [
    "# Object Re-usabbility Concept & Interning\n",
    "\n",
    "# Interning: Defined as creation of objects during runtime\n",
    "\n",
    "# Objects must be re-used if the following conditions are met\n",
    "# data type is integer from -5 to 256\n",
    "# data type is string \"0-9\" \"a-z\" \"A-Z\", _(underscore)\n",
    "\n",
    "# data type floats, complex or derived does not follow object re-usability concept\n",
    "\n",
    "import sys\n",
    "\n",
    "a = 300\n",
    "b = 273.16\n",
    "c = 3+6j\n",
    "d = 'Hello World'\n",
    "e = ['1', '1.03', 100.23, 3+6j, 'Dolly', 'Anarchy99']\n",
    "f = ('1', '1.03', 100.23, 3+6j, 'Dolly', 'Anarchy99')\n",
    "g = {'1', '1.03', 100.23, 3+6j, 'Dolly', 'Anarchy99'}\n",
    "\n",
    "print(f\"Class id: {id(a)}, {id(b)}, {id(c)}, {id(d)}, {id(e)}, {id(f)}, {id(g)} \")\n",
    "\n",
    "aa = 200\n",
    "bb = 200\n",
    "cc = 101.23\n",
    "dd = 101.23\n",
    "\n",
    "print(f\"Class id: {id(aa)}, {id(bb)}, {id(cc)}, {id(dd)} \")"
   ]
  },
  {
   "cell_type": "code",
   "execution_count": 13,
   "metadata": {
    "ExecuteTime": {
     "end_time": "2020-12-05T06:18:45.653764Z",
     "start_time": "2020-12-05T06:18:45.634849Z"
    }
   },
   "outputs": [
    {
     "name": "stdout",
     "output_type": "stream",
     "text": [
      "['False', 'None', 'True', 'and', 'as', 'assert', 'async', 'await', 'break', 'class', 'continue', 'def', 'del', 'elif', 'else', 'except', 'finally', 'for', 'from', 'global', 'if', 'import', 'in', 'is', 'lambda', 'nonlocal', 'not', 'or', 'pass', 'raise', 'return', 'try', 'while', 'with', 'yield']\n",
      "Total Number of In-built Keywords in Python: 35\n"
     ]
    }
   ],
   "source": [
    "import keyword\n",
    "print(keyword.kwlist)\n",
    "count = len(keyword.kwlist)\n",
    "print(f\"Total Number of In-built Keywords in Python: {count}\")"
   ]
  },
  {
   "cell_type": "code",
   "execution_count": 19,
   "metadata": {
    "ExecuteTime": {
     "end_time": "2020-12-05T06:30:55.877121Z",
     "start_time": "2020-12-05T06:30:55.861459Z"
    }
   },
   "outputs": [
    {
     "data": {
      "text/plain": [
       "['__all__',\n",
       " '__builtins__',\n",
       " '__cached__',\n",
       " '__doc__',\n",
       " '__file__',\n",
       " '__loader__',\n",
       " '__name__',\n",
       " '__package__',\n",
       " '__spec__',\n",
       " 'iskeyword',\n",
       " 'kwlist']"
      ]
     },
     "execution_count": 19,
     "metadata": {},
     "output_type": "execute_result"
    }
   ],
   "source": [
    "import keyword\n",
    "dir(keyword)"
   ]
  },
  {
   "cell_type": "code",
   "execution_count": 24,
   "metadata": {
    "ExecuteTime": {
     "end_time": "2020-12-13T17:22:01.019263Z",
     "start_time": "2020-12-13T17:22:00.981367Z"
    }
   },
   "outputs": [
    {
     "name": "stdout",
     "output_type": "stream",
     "text": [
      "C:\\Users\\Balaji\\Desktop\\Gitrep\\LB_2020.11.01\\Python_Tryouts\n",
      "\n",
      "Shape & Size of Dataframe: (583, 11) & 6413\n",
      "\n",
      "Number of Records for Gender:\n",
      "Male      441\n",
      "Female    142\n",
      "Name: Gender, dtype: int64\n",
      "None\n"
     ]
    }
   ],
   "source": [
    "\"\"\"\n",
    "Version: 1.0\n",
    "Created on: Sun Dec 13 21:31:49 2020\n",
    "Author: Balaji Kannan\n",
    "Description: Working with Core Python Libraries\n",
    "\n",
    "\"\"\"\n",
    "import os\n",
    "import pandas as pd\n",
    "\n",
    "print(os.getcwd(), end = '\\n\\n')\n",
    "\n",
    "PATH = r\"C:\\AI-ML_Datasets\"\n",
    "FNAME = r\"\\indian_liver_patient.csv\"\n",
    "FOUT = open('DescriptiveStats.txt', 'w+')\n",
    "pd.options.display.max_columns = None\n",
    "\n",
    "df = pd.read_csv(f\"{PATH}{FNAME}\")\n",
    "ds = df.describe() # Descriptive Statistics\n",
    "\n",
    "print(f\"Shape & Size of Dataframe: {df.shape} & {df.size}\\n\")\n",
    "print(\"Number of Records for Gender:\",df['Gender'].value_counts(), sep = '\\n')\n",
    "print(ds.to_string(FOUT))\n",
    "FOUT.close()\n"
   ]
  },
  {
   "cell_type": "code",
   "execution_count": null,
   "metadata": {},
   "outputs": [],
   "source": []
  }
 ],
 "metadata": {
  "kernelspec": {
   "display_name": "Python 3",
   "language": "python",
   "name": "python3"
  },
  "language_info": {
   "codemirror_mode": {
    "name": "ipython",
    "version": 3
   },
   "file_extension": ".py",
   "mimetype": "text/x-python",
   "name": "python",
   "nbconvert_exporter": "python",
   "pygments_lexer": "ipython3",
   "version": "3.8.5"
  },
  "varInspector": {
   "cols": {
    "lenName": 16,
    "lenType": 16,
    "lenVar": 40
   },
   "kernels_config": {
    "python": {
     "delete_cmd_postfix": "",
     "delete_cmd_prefix": "del ",
     "library": "var_list.py",
     "varRefreshCmd": "print(var_dic_list())"
    },
    "r": {
     "delete_cmd_postfix": ") ",
     "delete_cmd_prefix": "rm(",
     "library": "var_list.r",
     "varRefreshCmd": "cat(var_dic_list()) "
    }
   },
   "types_to_exclude": [
    "module",
    "function",
    "builtin_function_or_method",
    "instance",
    "_Feature"
   ],
   "window_display": false
  }
 },
 "nbformat": 4,
 "nbformat_minor": 4
}
