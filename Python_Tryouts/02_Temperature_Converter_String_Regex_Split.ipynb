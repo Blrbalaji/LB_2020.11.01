{
 "cells": [
  {
   "cell_type": "markdown",
   "metadata": {},
   "source": [
    "### Program to Convert Temperature from a give scale to other scales\n",
    "    1. Program is simple. However, pay attention to the following:\n",
    "        1. Input is split into floating point numbers and alphabet \n",
    "        2. If the scale is not entered, it takes default scale as Celcius.\n",
    "        3. Then tupple is used to see if the 1st character of the string matches any of the defined scale suffix\n",
    "        4. If all conditions are satisfied, temperature is converted into rest of the scales.\n",
    "        5. Output  is appended to file."
   ]
  },
  {
   "cell_type": "code",
   "execution_count": null,
   "metadata": {
    "ExecuteTime": {
     "end_time": "2020-11-17T06:08:03.413286Z",
     "start_time": "2020-11-17T06:07:50.491271Z"
    }
   },
   "outputs": [],
   "source": [
    "# Demonstration of regex function\n",
    "\n",
    "import sys\n",
    "import re\n",
    "\n",
    "ask = input(\"Enter temperature to be converted & Suffix of the alph in C, F, R, K:\\n\")\n",
    "\n",
    "if any(x.isalpha() for x in ask) == False:\n",
    "    print(\"Default Temperature is Considered as Celcius\")\n",
    "    ask = ask+'C'\n",
    "    pass\n",
    "\n",
    "t_alph = ('C', 'F', 'R', 'K') # Defining a tuple here\n",
    "\n",
    "num = re.findall(r\"[-+]?\\d*\\.\\d+|\\d+\", ask) # Split Ask into Numerals\n",
    "\n",
    "alph = re.findall(r\"[^\\W\\d_]\", ask) # Split Ask into Alphabets\n",
    "\n",
    "if alph[0].upper() not in t_alph:\n",
    "    print(\"Input temperature to be suffixed with C, F, R or K \")\n",
    "    pass\n",
    "\n",
    "temperature = float(num[0])\n",
    "if alph[0].upper() == \"C\":\n",
    "    TF = round(9/5*temperature+32,2)\n",
    "    TK = round(273.16+temperature,2)\n",
    "    TR = round(TF+459.67,2)\n",
    "    out = open('02_TempConOut.txt', 'a+') # i.e. open a text by name test in append and read mode.\n",
    "    print(f\"{temperature} \\u00B0{alph[0].upper()} is: {TF} \\u00B0F\", sep = '\\n', file = out)\n",
    "    print(f\"{temperature} \\u00B0{alph[0].upper()} is: {TK} \\u00B0K\", sep = '\\n', file = out)\n",
    "    print(f\"{temperature} \\u00B0{alph[0].upper()} is: {TR} \\u00B0R\", sep = '\\n', file = out)\n",
    "    out.close()\n",
    "\n",
    "elif alph[0].upper() == \"F\":\n",
    "    TC = round(5/9*(temperature-32),2)\n",
    "    TK = round(TC+273.16,2)\n",
    "    TR = round(temperature+459.67,2)\n",
    "    out = open('02_TempConOut.txt', 'a+') # i.e. open a text by name test in append and read mode.\n",
    "    print(f\"{temperature} \\u00B0{alph[0].upper()} is: {TC} \\u00B0C\", sep = '\\n', file = out)\n",
    "    print(f\"{temperature} \\u00B0{alph[0].upper()} is: {TK} \\u00B0K\", sep = '\\n', file = out)\n",
    "    print(f\"{temperature} \\u00B0{alph[0].upper()} is: {TR} \\u00B0R\", sep = '\\n', file = out)\n",
    "    out.close()\n",
    "    \n",
    "elif alph[0].upper() == \"K\":\n",
    "    TC = round(temperature - 273.16,2)\n",
    "    TF = round(9/5*TC+32,2)\n",
    "    TR = round(TF+459.67,2)\n",
    "    out = open('02_TempConOut.txt', 'a+') # i.e. open a text by name test in append and read mode.\n",
    "    print(f\"{temperature} \\u00B0{alph[0].upper()} is: {TC} \\u00B0C\", sep = '\\n', file = out)\n",
    "    print(f\"{temperature} \\u00B0{alph[0].upper()} is: {TF} \\u00B0F\", sep = '\\n', file = out)\n",
    "    print(f\"{temperature} \\u00B0{alph[0].upper()} is: {TR} \\u00B0R\", sep = '\\n', file = out)\n",
    "    out.close()\n",
    "else:\n",
    "    TF = round(temperature - 459.67,2)\n",
    "    TC = round(5/9*(TF-32),2)\n",
    "    TK = round(TC+273.16,2)\n",
    "    out = open('02_TempConOut.txt', 'a+') # i.e. open a text by name test in append and read mode.\n",
    "    print(f\"{temperature} \\u00B0{alph[0].upper()} is: {TC} \\u00B0C\", sep = '\\n', file = out)\n",
    "    print(f\"{temperature} \\u00B0{alph[0].upper()} is: {TF} \\u00B0F\", sep = '\\n', file = out)\n",
    "    print(f\"{temperature} \\u00B0{alph[0].upper()} is: {TK} \\u00B0K\", sep = '\\n', file = out)\n",
    "    out.close()"
   ]
  }
 ],
 "metadata": {
  "kernelspec": {
   "display_name": "Python 3",
   "language": "python",
   "name": "python3"
  },
  "language_info": {
   "codemirror_mode": {
    "name": "ipython",
    "version": 3
   },
   "file_extension": ".py",
   "mimetype": "text/x-python",
   "name": "python",
   "nbconvert_exporter": "python",
   "pygments_lexer": "ipython3",
   "version": "3.8.5"
  },
  "varInspector": {
   "cols": {
    "lenName": 16,
    "lenType": 16,
    "lenVar": 40
   },
   "kernels_config": {
    "python": {
     "delete_cmd_postfix": "",
     "delete_cmd_prefix": "del ",
     "library": "var_list.py",
     "varRefreshCmd": "print(var_dic_list())"
    },
    "r": {
     "delete_cmd_postfix": ") ",
     "delete_cmd_prefix": "rm(",
     "library": "var_list.r",
     "varRefreshCmd": "cat(var_dic_list()) "
    }
   },
   "position": {
    "height": "307px",
    "left": "549px",
    "right": "20px",
    "top": "120px",
    "width": "350px"
   },
   "types_to_exclude": [
    "module",
    "function",
    "builtin_function_or_method",
    "instance",
    "_Feature"
   ],
   "window_display": false
  }
 },
 "nbformat": 4,
 "nbformat_minor": 4
}
